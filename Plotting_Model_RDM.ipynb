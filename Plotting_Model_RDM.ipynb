{
 "cells": [
  {
   "cell_type": "markdown",
   "metadata": {},
   "source": [
    "# Set up the environment"
   ]
  },
  {
   "cell_type": "code",
   "execution_count": null,
   "metadata": {},
   "outputs": [],
   "source": [
    "import numpy as np\n",
    "import os\n",
    "import json\n",
    "import matplotlib.pyplot as plt\n",
    "import seaborn\n",
    "from sklearn.manifold import TSNE, MDS"
   ]
  },
  {
   "cell_type": "markdown",
   "metadata": {},
   "source": [
    "# Define a function to create a filename\n"
   ]
  },
  {
   "cell_type": "code",
   "execution_count": null,
   "metadata": {},
   "outputs": [],
   "source": [
    "def getFileName(name, n_samples, model_name, layer_name):\n",
    "    return name \\\n",
    "        + \"_{}_\".format(n_samples) \\\n",
    "        + \"_{}_\".format(model_name) \\\n",
    "        + \"_{}\".format(layer_name)  \\\n",
    "        + \".npy\"   "
   ]
  },
  {
   "cell_type": "markdown",
   "metadata": {},
   "source": [
    "# Get the model and layers' names and load the model RDM"
   ]
  },
  {
   "cell_type": "code",
   "execution_count": null,
   "metadata": {},
   "outputs": [],
   "source": [
    "#one or two models\n",
    "multiple_models = 0 #one is multiple models, 0 is not\n",
    "#load the np file containing the shape of the activations\n",
    "ROOT_PATH = '/mnt/raid/ni/agnessa/RSA/'\n",
    "NR_OF_SAMPLES = 10000\n",
    "json_file_layers=os.path.join(ROOT_PATH,'resnets_selected_layers.json')\n",
    "with open(json_file_layers, \"r\") as fd:\n",
    "    selected_layers = json.load(fd)\n",
    "\n",
    "#get the name of the model(s) and of the layers\n",
    "num_layers_1 = 33\n",
    "model_begin_1 = 32 #index of the first layer of the desired model\n",
    "model_name_1 = selected_layers[model_begin_1].get('model')\n",
    "layer_names_1 = []\n",
    "\n",
    "if multiple_models == 1:\n",
    "    num_layers_2 = 16\n",
    "    model_begin_2 = 32\n",
    "    model_name_2 = selected_layers[model_begin_2].get('model')\n",
    "    layer_names_2 = []\n",
    "\n",
    "#append the layers from the first model\n",
    "for i in range(num_layers):\n",
    "    layer_names_1.append(selected_layers[model_begin_1+i].get('layer'))   \n",
    "    \n",
    "#append the layers from the second model\n",
    "if multiple_models == 1:\n",
    "    for j in range(num_layers_2):\n",
    "        layer_names_2.append(selected_layers[model_begin_2+j].get('layer'))\n",
    "    \n",
    "#Load the model RDM\n",
    "layer_name_model_rdm = 'all'\n",
    "if multiple_models == 1:\n",
    "    model_name = model_name_1 + '_' + model_name_2\n",
    "elif multiple_models == 0:\n",
    "    model_name = model_name_1\n",
    "\n",
    "#Load the model rdm(s)\n",
    "path = os.path.join(ROOT_PATH + 'Model_RDM/', getFileName(\"Model_RDM\",NR_OF_SAMPLES,model_name,layer_name_model_rdm))\n",
    "Model_RDM = np.load(path)"
   ]
  },
  {
   "cell_type": "code",
   "execution_count": null,
   "metadata": {},
   "outputs": [],
   "source": [
    "#Resnext and 34\n",
    "#one or two models\n",
    "multiple_models = 1 #one is multiple models, 0 is not\n",
    "\n",
    "#get the name of the model(s) and of the layers\n",
    "num_layers = 33\n",
    "model_begin_1 = 32 #index of the first layer of the desired model\n",
    "model_name_1 = selected_layers[model_begin_1].get('model')\n",
    "layer_names_1 = []\n",
    "\n",
    "if multiple_models == 1:\n",
    "    model_begin_2 = 32\n",
    "    model_name_2 = selected_layers[model_begin_2].get('model')\n",
    "    layer_names_2 = []\n",
    "\n",
    "#append the layers from the first model\n",
    "for i in range(num_layers):\n",
    "    layer_names_1.append(selected_layers[model_begin_1+i].get('layer'))   \n",
    "    \n",
    "#append the layers from the second model\n",
    "if multiple_models == 1:\n",
    "    for i in range(num_layers):\n",
    "        layer_names_2.append(selected_layers[model_begin_2+i].get('layer'))\n",
    "    \n",
    "#Load the model RDM\n",
    "layer_name_model_rdm = 'all'\n",
    "if multiple_models == 1:\n",
    "    model_name = model_name_1 + '_' + model_name_2\n",
    "elif multiple_models == 0:\n",
    "    model_name = model_name_1\n",
    "\n",
    "#Load the model rdm(s)\n",
    "path = os.path.join(ROOT_PATH + 'Model_RDM/', getFileName(\"Model_RDM\",NR_OF_SAMPLES,model_name,layer_name_model_rdm))\n",
    "Model_RDM = np.load(path)"
   ]
  },
  {
   "cell_type": "code",
   "execution_count": null,
   "metadata": {},
   "outputs": [],
   "source": [
    "#Load the model rdms\n",
    "path_34 = '/mnt/raid/ni/agnessa/RSA/Model_RDM/Model_RDM_10000__resnet34__all.npy'\n",
    "path_50 = '/mnt/raid/ni/agnessa/RSA/Model_RDM/Model_RDM_10000__resnet50__all.npy'\n",
    "path_34_50 = '/mnt/raid/ni/agnessa/RSA/Model_RDM/Model_RDM_10000__resnet34_resnet50__all.npy'\n",
    "\n",
    "model_rdm_34 = np.load(path_34)\n",
    "model_rdm_50 = np.load(path_50)\n",
    "model_rdm_34_50 = np.load(path_34_50)\n",
    "\n",
    "# stitched_rdm = np.ones([32,32])\n",
    "# stitched_rdm[:] = np.nan\n",
    "# stitched_rdm[0:16,0:16] = 1-model_rdm_34\n",
    "# stitched_rdm[0:16,16:32] = model_rdm_34_50\n",
    "# stitched_rdm[16:32,0:16] = np.transpose(model_rdm_34_50)\n",
    "# stitched_rdm[16:32,16:32] = model_rdm_50\n",
    "\n",
    "# layer_names = ['layer1.0','layer1.1','layer1.2','layer2.0','layer2.1','layer2.2','layer2.3','layer3.0','layer3.1','layer3.2','layer3.3','layer3.4','layer3.5','layer4.0','layer4.1','layer4.2',\n",
    "#               'layer1.0','layer1.1','layer1.2','layer2.0','layer2.1','layer2.2','layer2.3','layer3.0','layer3.1','layer3.2','layer3.3','layer3.4','layer3.5','layer4.0','layer4.1','layer4.2']\n",
    "\n",
    "# fig = plt.figure(figsize=(17,15))\n",
    "# ax = seaborn.heatmap(stitched_rdm,  xticklabels = layer_names, yticklabels = layer_names, cmap='rainbow', vmin=0.0, vmax=1.0)\n",
    "# plt.xticks(rotation=90) \n",
    "# plt.yticks(rotation=0)\n",
    "# plt.show()"
   ]
  },
  {
   "cell_type": "code",
   "execution_count": null,
   "metadata": {},
   "outputs": [],
   "source": [
    "# path_save = '/mnt/raid/ni/agnessa/RSA/Model_RDM_plots/Model_RDM_10000__between_resnet34_resnet50__all.png'\n",
    "# fig.savefig(path_save)"
   ]
  },
  {
   "cell_type": "code",
   "execution_count": null,
   "metadata": {},
   "outputs": [],
   "source": [
    "# path_34_new = '/mnt/raid/ni/agnessa/RSA/Model_RDM/Model_RDM_10000__resnet34__all.npy'\n",
    "# np.save(path_34_new,1-model_rdm_34)"
   ]
  },
  {
   "cell_type": "markdown",
   "metadata": {},
   "source": [
    "# Plot the Model RDM\n"
   ]
  },
  {
   "cell_type": "code",
   "execution_count": null,
   "metadata": {},
   "outputs": [],
   "source": [
    "print(\"Plotting Model RDM for model -> \", model_name)\n",
    "Model_RDM[np.isnan(Model_RDM)]=0.0 \n",
    "fig = plt.figure(figsize=(19,15))\n",
    "ax = seaborn.heatmap(Model_RDM, xticklabels = layer_names_1, yticklabels = layer_names_1, cmap='rainbow', vmin=0.0, vmax=1.0)\n",
    "plt.xticks(rotation=90) \n",
    "plt.yticks(rotation=0)\n",
    "plt.show()"
   ]
  },
  {
   "cell_type": "markdown",
   "metadata": {},
   "source": [
    "# Save as a .png file"
   ]
  },
  {
   "cell_type": "code",
   "execution_count": null,
   "metadata": {},
   "outputs": [],
   "source": [
    "path = os.path.join(ROOT_PATH + 'Model_RDM_plots', getFileName(\"Model_RDM\",NR_OF_SAMPLES,model_name,layer_name_model_rdm) + '.png')\n",
    "fig.savefig(path)"
   ]
  },
  {
   "cell_type": "markdown",
   "metadata": {},
   "source": [
    "# Multidimensional scaling"
   ]
  },
  {
   "cell_type": "code",
   "execution_count": null,
   "metadata": {},
   "outputs": [],
   "source": [
    "mds = MDS(n_components=2, n_init=200, max_iter=2000, eps=0.0001, dissimilarity='precomputed')\n",
    "data_embedded = mds.fit_transform(Model_RDM)"
   ]
  },
  {
   "cell_type": "code",
   "execution_count": null,
   "metadata": {},
   "outputs": [],
   "source": [
    "#automate the layers\n",
    "sorted_layers = [1.0,1.1,1.2,2.0,2.1,2.2,2.3,3.0,3.1,3.2,3.3,3.4,3.5,\n",
    "                 3.6,3.7,3.8,3.9,3.10,3.11,3.12,3.13,3.14,3.15,3.16,3.17,3.18,3.19,3.20,3.21,3.22,4.0,4.1,4.2]\n",
    "fig, ax = plt.subplots()\n",
    "sc = ax.scatter(data_embedded[:, 0], data_embedded[:, 1], c=sorted_layers, cmap = 'rainbow')\n",
    "\n",
    "for i in range(np.array(layer_names_1).shape[0]):\n",
    "    ax.annotate(layer_names_1[i], (data_embedded[i, 0], data_embedded[i, 1]))\n",
    "\n",
    "plt.show()"
   ]
  },
  {
   "cell_type": "code",
   "execution_count": null,
   "metadata": {},
   "outputs": [],
   "source": [
    "path = os.path.join(ROOT_PATH + 'Model_RDM_MDS', getFileName(\"Model_RDM_MDS\",NR_OF_SAMPLES,model_name,layer_name_model_rdm) + '.png')\n",
    "fig.savefig(path)"
   ]
  },
  {
   "cell_type": "code",
   "execution_count": null,
   "metadata": {},
   "outputs": [],
   "source": [
    "path_save =\"/mnt/raid/ni/agnessa/RSA/Model_RDM_MDS/Model_RDM_MDS_10000__resnet34_and_50__all.npy.png\"\n",
    "fig.savefig(path_save)"
   ]
  },
  {
   "cell_type": "code",
   "execution_count": null,
   "metadata": {},
   "outputs": [],
   "source": []
  }
 ],
 "metadata": {
  "kernelspec": {
   "display_name": "Python 3",
   "language": "python",
   "name": "python3"
  },
  "language_info": {
   "codemirror_mode": {
    "name": "ipython",
    "version": 3
   },
   "file_extension": ".py",
   "mimetype": "text/x-python",
   "name": "python",
   "nbconvert_exporter": "python",
   "pygments_lexer": "ipython3",
   "version": "3.7.4"
  }
 },
 "nbformat": 4,
 "nbformat_minor": 2
}
