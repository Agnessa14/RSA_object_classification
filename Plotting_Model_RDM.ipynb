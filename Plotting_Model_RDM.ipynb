{
 "cells": [
  {
   "cell_type": "markdown",
   "metadata": {},
   "source": [
    "# Define a function to create a filename\n"
   ]
  },
  {
   "cell_type": "code",
   "execution_count": null,
   "metadata": {},
   "outputs": [],
   "source": [
    "def getFileName(name, n_samples, model_name, layer_name):\n",
    "    return name \\\n",
    "        + \"_{}_\".format(n_samples) \\\n",
    "        + \"_{}_\".format(model_name) \\\n",
    "        + \"_{}\".format(layer_name)  \\\n",
    "        + \".npy\"   "
   ]
  },
  {
   "cell_type": "markdown",
   "metadata": {},
   "source": [
    "# Load the Model RDM"
   ]
  },
  {
   "cell_type": "code",
   "execution_count": null,
   "metadata": {},
   "outputs": [],
   "source": [
    "import os\n",
    "import numpy as np\n",
    "model_name = 'resnet34'\n",
    "layer_name = 'all'\n",
    "SAVE_PATH = '/mnt/raid/ni/agnessa/RSA/' \n",
    "NR_OF_SAMPLES = 10000\n",
    "path = os.path.join(SAVE_PATH + 'Model_RDM/', getFileName(\"Model_RDM\",NR_OF_SAMPLES,model_name,layer_name))\n",
    "\n",
    "# save np.load - the function was behaving weirdly, and this was the solution\n",
    "np_load_old = np.load\n",
    "\n",
    "# modify the default parameters of np.load\n",
    "np.load = lambda *a,**k: np_load_old(*a, allow_pickle=True, **k)\n",
    "Model_RDM = np.load(path)\n",
    "np.load = np_load_old"
   ]
  },
  {
   "cell_type": "markdown",
   "metadata": {},
   "source": [
    "# Plot the Model RDM\n"
   ]
  },
  {
   "cell_type": "code",
   "execution_count": null,
   "metadata": {},
   "outputs": [],
   "source": [
    "import matplotlib.pyplot as plt\n",
    "import seaborn\n",
    "Model_RDM[np.isnan(Model_RDM)]=0.0 \n",
    "fig = plt.figure(figsize=(15,15))\n",
    "layer_names = np.array(['layer1.0','layer1.1','layer1.2','layer2.0','layer2.1','layer2.2','layer2.3','layer3.0','layer3.1',\n",
    "              'layer3.2','layer3.3','layer3.4','layer3.5','layer4.0','layer4.1','layer4.2'])\n",
    "ax = seaborn.heatmap(1-Model_RDM, xticklabels = layer_names, yticklabels = layer_names, cmap='rainbow', vmin=0.0, vmax=2.0)\n",
    "plt.xticks(rotation=90) \n",
    "plt.yticks(rotation=0)\n",
    "plt.show()"
   ]
  },
  {
   "cell_type": "markdown",
   "metadata": {},
   "source": [
    "# Save as a .png file"
   ]
  },
  {
   "cell_type": "code",
   "execution_count": null,
   "metadata": {},
   "outputs": [],
   "source": [
    "path = os.path.join(SAVE_PATH + 'Model_RDM_plots', getFileName(\"Model_RDM\",NR_OF_SAMPLES,model_name,layer_name) + '.png')\n",
    "fig.savefig(path)"
   ]
  },
  {
   "cell_type": "markdown",
   "metadata": {},
   "source": [
    "# Multidimensional scaling"
   ]
  },
  {
   "cell_type": "code",
   "execution_count": null,
   "metadata": {},
   "outputs": [],
   "source": [
    "from sklearn.manifold import TSNE, MDS\n",
    "mds = MDS(n_components=2, n_init=200, max_iter=2000, eps=0.0001, dissimilarity='precomputed')\n",
    "data_embedded = mds.fit_transform(1-Model_RDM) #double-check what the x and y values are/how they are obtained"
   ]
  },
  {
   "cell_type": "code",
   "execution_count": null,
   "metadata": {},
   "outputs": [],
   "source": [
    "sorted_layers = [1.0,1.1,1.2,2.0,2.1,2.2,2.3,3.0,3.1,3.2,3.3,3.4,3.5,4.0,4.1,4.2]\n",
    "fig, ax = plt.subplots()\n",
    "sc = ax.scatter(data_embedded[:, 0], data_embedded[:, 1], c=sorted_layers, cmap = 'rainbow')\n",
    "\n",
    "for i in range(layer_names.shape[0]):\n",
    "    ax.annotate(layer_names[i], (data_embedded[i, 0], data_embedded[i, 1]))\n",
    "\n",
    "plt.show()"
   ]
  },
  {
   "cell_type": "code",
   "execution_count": null,
   "metadata": {},
   "outputs": [],
   "source": [
    "path = os.path.join(SAVE_PATH + 'Model_RDM_MDS', getFileName(\"Model_RDM_MDS\",NR_OF_SAMPLES,model_name,layer_name) + '.png')\n",
    "fig.savefig(path)"
   ]
  },
  {
   "cell_type": "code",
   "execution_count": null,
   "metadata": {},
   "outputs": [],
   "source": []
  }
 ],
 "metadata": {
  "kernelspec": {
   "display_name": "Python 3",
   "language": "python",
   "name": "python3"
  },
  "language_info": {
   "codemirror_mode": {
    "name": "ipython",
    "version": 3
   },
   "file_extension": ".py",
   "mimetype": "text/x-python",
   "name": "python",
   "nbconvert_exporter": "python",
   "pygments_lexer": "ipython3",
   "version": "3.7.4"
  }
 },
 "nbformat": 4,
 "nbformat_minor": 2
}
