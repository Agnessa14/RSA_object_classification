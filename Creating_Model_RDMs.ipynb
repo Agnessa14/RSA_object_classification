{
 "cells": [
  {
   "cell_type": "markdown",
   "metadata": {},
   "source": [
    "# Set up the environment"
   ]
  },
  {
   "cell_type": "code",
   "execution_count": 4,
   "metadata": {
    "colab": {},
    "colab_type": "code",
    "id": "p2yCI35Ec7YE"
   },
   "outputs": [],
   "source": [
    "import numpy as np\n",
    "import scipy.stats\n",
    "import matplotlib.pyplot as plt\n",
    "import seaborn\n",
    "import os\n",
    "import pickle\n",
    "import json\n",
    "from scipy.stats import spearmanr"
   ]
  },
  {
   "cell_type": "markdown",
   "metadata": {},
   "source": [
    "# Define a function to create a filename"
   ]
  },
  {
   "cell_type": "code",
   "execution_count": 5,
   "metadata": {},
   "outputs": [],
   "source": [
    "def getFileName(name, n_samples, model_name, layer_name):\n",
    "    return name \\\n",
    "        + \"_{}_\".format(n_samples) \\\n",
    "        + \"_{}_\".format(model_name) \\\n",
    "        + \"_{}\".format(layer_name)  \\\n",
    "        + \".npy\"   "
   ]
  },
  {
   "cell_type": "markdown",
   "metadata": {},
   "source": [
    "# Define a function to create the upper triangular of Input RDMs"
   ]
  },
  {
   "cell_type": "code",
   "execution_count": 6,
   "metadata": {},
   "outputs": [],
   "source": [
    "def get_upper_triangular(rdm):\n",
    "    num_conditions = rdm.shape[0] #num samples\n",
    "    return rdm[np.triu_indices(num_conditions,1)] #take all above the main diagonal (excluding it), returns flattened version"
   ]
  },
  {
   "cell_type": "markdown",
   "metadata": {},
   "source": [
    "# Load the model(s) and layers"
   ]
  },
  {
   "cell_type": "code",
   "execution_count": 7,
   "metadata": {},
   "outputs": [
    {
     "name": "stdout",
     "output_type": "stream",
     "text": [
      "Comparing models resnet34 and resnet50 , layers ['layer1.0', 'layer1.1', 'layer1.2', 'layer2.0', 'layer2.1', 'layer2.2', 'layer2.3', 'layer3.0', 'layer3.1', 'layer3.2', 'layer3.3', 'layer3.4', 'layer3.5', 'layer4.0', 'layer4.1', 'layer4.2', 'layer1.0', 'layer1.1', 'layer1.2', 'layer2.0', 'layer2.1', 'layer2.2', 'layer2.3', 'layer3.0', 'layer3.1', 'layer3.2', 'layer3.3', 'layer3.4', 'layer3.5', 'layer4.0', 'layer4.1', 'layer4.2']\n"
     ]
    }
   ],
   "source": [
    "multiple_models = 1 #comparing within a model or between models; 1 = between, 0 = within\n",
    "\n",
    "#load the np file containing the shape of the activations\n",
    "ROOT_PATH = '/mnt/raid/ni/agnessa/RSA/'\n",
    "NR_OF_SAMPLES = 10000\n",
    "json_file_layers=os.path.join(ROOT_PATH,'resnets_selected_layers.json')\n",
    "with open(json_file_layers, \"r\") as fd:\n",
    "    selected_layers = json.load(fd)\n",
    "\n",
    "#get the name of the model(s) and of the layers\n",
    "num_layers_1 = 16\n",
    "model_begin_1 = 0 #index of the first layer of the desired model\n",
    "model_name_1 = selected_layers[model_begin_1].get('model')\n",
    "\n",
    "if multiple_models == 1:\n",
    "    num_layers_2 = 16\n",
    "    model_begin_2 = 16\n",
    "    model_name_2 = selected_layers[model_begin_2].get('model')\n",
    "\n",
    "layer_names = []\n",
    "\n",
    "#append the layers from the first model\n",
    "for i in range(num_layers_1):\n",
    "    layer_names.append(selected_layers[model_begin_1+i].get('layer'))   \n",
    "    \n",
    "if multiple_models == 1:\n",
    "    #append the layers from the second model\n",
    "    for j in range(num_layers_2):\n",
    "        layer_names.append(selected_layers[model_begin_2+j].get('layer'))\n",
    "    \n",
    "if multiple_models == 1:\n",
    "    print('Comparing models', model_name_1, 'and', model_name_2, ', layers', layer_names)\n",
    "else:\n",
    "    print('Comparing models', model_name_1, 'and', model_name_1, ', layers', layer_names)\n"
   ]
  },
  {
   "cell_type": "markdown",
   "metadata": {},
   "source": [
    "# Create model RDMs by correlating between Input RDMs from different layers and models"
   ]
  },
  {
   "cell_type": "code",
   "execution_count": 25,
   "metadata": {},
   "outputs": [
    {
     "name": "stdout",
     "output_type": "stream",
     "text": [
      "['layer1.0', 'layer1.1', 'layer1.2', 'layer2.0', 'layer2.1', 'layer2.2', 'layer2.3', 'layer3.0', 'layer3.1', 'layer3.2', 'layer3.3', 'layer3.4', 'layer3.5', 'layer4.0', 'layer4.1', 'layer4.2', 'layer1.0', 'layer1.1', 'layer1.2', 'layer2.0', 'layer2.1', 'layer2.2', 'layer2.3', 'layer3.0', 'layer3.1', 'layer3.2', 'layer3.3', 'layer3.4', 'layer3.5', 'layer4.0', 'layer4.1', 'layer4.2']\n",
      "Getting the upper triangular of -> layer1.0\n",
      "Getting the upper triangular of -> layer1.0\n",
      "Calculating the correlation distance between -> layer1.0 and layer1.0\n",
      "Finished the correlation distance between -> layer1.0 and layer1.0\n",
      "Saving the correlation distance between -> layer1.0 and layer1.0\n",
      "['layer1.0', 'layer1.1', 'layer1.2', 'layer2.0', 'layer2.1', 'layer2.2', 'layer2.3', 'layer3.0', 'layer3.1', 'layer3.2', 'layer3.3', 'layer3.4', 'layer3.5', 'layer4.0', 'layer4.1', 'layer4.2', 'layer1.0', 'layer1.1', 'layer1.2', 'layer2.0', 'layer2.1', 'layer2.2', 'layer2.3', 'layer3.0', 'layer3.1', 'layer3.2', 'layer3.3', 'layer3.4', 'layer3.5', 'layer4.0', 'layer4.1', 'layer4.2']\n",
      "Getting the upper triangular of -> layer1.0\n",
      "Getting the upper triangular of -> layer1.1\n",
      "Calculating the correlation distance between -> layer1.0 and layer1.1\n",
      "Finished the correlation distance between -> layer1.0 and layer1.1\n",
      "Saving the correlation distance between -> layer1.0 and layer1.1\n",
      "['layer1.0', 'layer1.1', 'layer1.2', 'layer2.0', 'layer2.1', 'layer2.2', 'layer2.3', 'layer3.0', 'layer3.1', 'layer3.2', 'layer3.3', 'layer3.4', 'layer3.5', 'layer4.0', 'layer4.1', 'layer4.2', 'layer1.0', 'layer1.1', 'layer1.2', 'layer2.0', 'layer2.1', 'layer2.2', 'layer2.3', 'layer3.0', 'layer3.1', 'layer3.2', 'layer3.3', 'layer3.4', 'layer3.5', 'layer4.0', 'layer4.1', 'layer4.2']\n"
     ]
    },
    {
     "ename": "KeyboardInterrupt",
     "evalue": "",
     "output_type": "error",
     "traceback": [
      "\u001b[0;31m---------------------------------------------------------------------------\u001b[0m",
      "\u001b[0;31mKeyboardInterrupt\u001b[0m                         Traceback (most recent call last)",
      "\u001b[0;32m<ipython-input-25-cc1072687120>\u001b[0m in \u001b[0;36m<module>\u001b[0;34m\u001b[0m\n\u001b[1;32m     20\u001b[0m         \u001b[0mRDM_PATH_j\u001b[0m \u001b[0;34m=\u001b[0m \u001b[0mos\u001b[0m\u001b[0;34m.\u001b[0m\u001b[0mpath\u001b[0m\u001b[0;34m.\u001b[0m\u001b[0mjoin\u001b[0m\u001b[0;34m(\u001b[0m\u001b[0mROOT_PATH\u001b[0m\u001b[0;34m,\u001b[0m \u001b[0;34m'Input_RDM/'\u001b[0m \u001b[0;34m+\u001b[0m \u001b[0mgetFileName\u001b[0m\u001b[0;34m(\u001b[0m\u001b[0;34m'Input_RDM'\u001b[0m\u001b[0;34m,\u001b[0m \u001b[0mNR_OF_SAMPLES\u001b[0m\u001b[0;34m,\u001b[0m \u001b[0mmodel_name_2\u001b[0m\u001b[0;34m,\u001b[0m \u001b[0mlayer_j\u001b[0m\u001b[0;34m)\u001b[0m\u001b[0;34m)\u001b[0m\u001b[0;34m\u001b[0m\u001b[0;34m\u001b[0m\u001b[0m\n\u001b[1;32m     21\u001b[0m         \u001b[0mInput_RDM_i\u001b[0m \u001b[0;34m=\u001b[0m \u001b[0mnp\u001b[0m\u001b[0;34m.\u001b[0m\u001b[0mload\u001b[0m\u001b[0;34m(\u001b[0m\u001b[0mRDM_PATH_i\u001b[0m\u001b[0;34m)\u001b[0m\u001b[0;34m\u001b[0m\u001b[0;34m\u001b[0m\u001b[0m\n\u001b[0;32m---> 22\u001b[0;31m         \u001b[0mInput_RDM_j\u001b[0m \u001b[0;34m=\u001b[0m \u001b[0mnp\u001b[0m\u001b[0;34m.\u001b[0m\u001b[0mload\u001b[0m\u001b[0;34m(\u001b[0m\u001b[0mRDM_PATH_j\u001b[0m\u001b[0;34m)\u001b[0m\u001b[0;34m\u001b[0m\u001b[0;34m\u001b[0m\u001b[0m\n\u001b[0m\u001b[1;32m     23\u001b[0m \u001b[0;34m\u001b[0m\u001b[0m\n\u001b[1;32m     24\u001b[0m         \u001b[0;31m## get upper triangulars, without the 0 diagonal\u001b[0m\u001b[0;34m\u001b[0m\u001b[0;34m\u001b[0m\u001b[0;34m\u001b[0m\u001b[0m\n",
      "\u001b[0;32m~/anaconda3/lib/python3.7/site-packages/numpy/lib/npyio.py\u001b[0m in \u001b[0;36mload\u001b[0;34m(file, mmap_mode, allow_pickle, fix_imports, encoding)\u001b[0m\n\u001b[1;32m    451\u001b[0m             \u001b[0;32melse\u001b[0m\u001b[0;34m:\u001b[0m\u001b[0;34m\u001b[0m\u001b[0;34m\u001b[0m\u001b[0m\n\u001b[1;32m    452\u001b[0m                 return format.read_array(fid, allow_pickle=allow_pickle,\n\u001b[0;32m--> 453\u001b[0;31m                                          pickle_kwargs=pickle_kwargs)\n\u001b[0m\u001b[1;32m    454\u001b[0m         \u001b[0;32melse\u001b[0m\u001b[0;34m:\u001b[0m\u001b[0;34m\u001b[0m\u001b[0;34m\u001b[0m\u001b[0m\n\u001b[1;32m    455\u001b[0m             \u001b[0;31m# Try a pickle\u001b[0m\u001b[0;34m\u001b[0m\u001b[0;34m\u001b[0m\u001b[0;34m\u001b[0m\u001b[0m\n",
      "\u001b[0;32m~/anaconda3/lib/python3.7/site-packages/numpy/lib/format.py\u001b[0m in \u001b[0;36mread_array\u001b[0;34m(fp, allow_pickle, pickle_kwargs)\u001b[0m\n\u001b[1;32m    736\u001b[0m         \u001b[0;32mif\u001b[0m \u001b[0misfileobj\u001b[0m\u001b[0;34m(\u001b[0m\u001b[0mfp\u001b[0m\u001b[0;34m)\u001b[0m\u001b[0;34m:\u001b[0m\u001b[0;34m\u001b[0m\u001b[0;34m\u001b[0m\u001b[0m\n\u001b[1;32m    737\u001b[0m             \u001b[0;31m# We can use the fast fromfile() function.\u001b[0m\u001b[0;34m\u001b[0m\u001b[0;34m\u001b[0m\u001b[0;34m\u001b[0m\u001b[0m\n\u001b[0;32m--> 738\u001b[0;31m             \u001b[0marray\u001b[0m \u001b[0;34m=\u001b[0m \u001b[0mnumpy\u001b[0m\u001b[0;34m.\u001b[0m\u001b[0mfromfile\u001b[0m\u001b[0;34m(\u001b[0m\u001b[0mfp\u001b[0m\u001b[0;34m,\u001b[0m \u001b[0mdtype\u001b[0m\u001b[0;34m=\u001b[0m\u001b[0mdtype\u001b[0m\u001b[0;34m,\u001b[0m \u001b[0mcount\u001b[0m\u001b[0;34m=\u001b[0m\u001b[0mcount\u001b[0m\u001b[0;34m)\u001b[0m\u001b[0;34m\u001b[0m\u001b[0;34m\u001b[0m\u001b[0m\n\u001b[0m\u001b[1;32m    739\u001b[0m         \u001b[0;32melse\u001b[0m\u001b[0;34m:\u001b[0m\u001b[0;34m\u001b[0m\u001b[0;34m\u001b[0m\u001b[0m\n\u001b[1;32m    740\u001b[0m             \u001b[0;31m# This is not a real file. We have to read it the\u001b[0m\u001b[0;34m\u001b[0m\u001b[0;34m\u001b[0m\u001b[0;34m\u001b[0m\u001b[0m\n",
      "\u001b[0;31mKeyboardInterrupt\u001b[0m: "
     ]
    }
   ],
   "source": [
    "size_rdm = np.array(layer_names).shape[0]   \n",
    "RSA_matrix = np.ones((size_rdm,size_rdm)) #num layers x num layers\n",
    "RSA_matrix[:] = np.nan\n",
    "\n",
    "if multiple_models == 1:\n",
    "    model_name = model_name_1 + '_' + model_name_2\n",
    "else:\n",
    "    model_name = model_name_2 = model_name_1  \n",
    "    \n",
    "#1. get upper triangulars\n",
    "#2. calculate the correlation distance (1-Spearman's coefficient) between the upper triangulars\n",
    "#3. repeat for all pairs of layers (and models)\n",
    "\n",
    "#for multiple models: replace by model & layer_1 and layer_2 loops\n",
    "for layer_i in layer_names:\n",
    "    for layer_j in layer_names[np.where(layer_i)[0][0]:len(layer_names)]:\n",
    "        print(layer_names[np.where(layer_i)[0][0]:len(layer_names)])\n",
    "        ## load RDMs ##\n",
    "        RDM_PATH_i = os.path.join(ROOT_PATH, 'Input_RDM/' + getFileName('Input_RDM', NR_OF_SAMPLES, model_name_1, layer_i))\n",
    "        RDM_PATH_j = os.path.join(ROOT_PATH, 'Input_RDM/' + getFileName('Input_RDM', NR_OF_SAMPLES, model_name_2, layer_j))        \n",
    "        Input_RDM_i = np.load(RDM_PATH_i)\n",
    "        Input_RDM_j = np.load(RDM_PATH_j)\n",
    "    \n",
    "        ## get upper triangulars, without the 0 diagonal\n",
    "        print('Getting the upper triangular of ->', layer_i)\n",
    "        ut_rdm_i = get_upper_triangular(Input_RDM_i)\n",
    "        print('Getting the upper triangular of ->', layer_j)\n",
    "        ut_rdm_j = get_upper_triangular(Input_RDM_j)\n",
    "            \n",
    "        # Spearman correlation\n",
    "        print('Calculating the correlation distance between ->', layer_i, 'and', layer_j)\n",
    "        RSA_i_j = 1-spearmanr(ut_rdm_i,ut_rdm_j)[0]\n",
    "        print('Finished the correlation distance between ->', layer_i, 'and', layer_j)\n",
    "        \n",
    "        # Save into a matrix \n",
    "        print('Saving the correlation distance between ->', layer_i, 'and', layer_j)\n",
    "        RSA_matrix[np.where(np.array(layer_names)==layer_i)[0][0],np.where(np.array(layer_names)==layer_j)[0][0]] = \\\n",
    "        RSA_matrix[np.where(np.array(layer_names)==layer_j)[0][0],np.where(np.array(layer_names)==layer_i)[0][0]] = RSA_i_j\n",
    "        \n",
    "#save model RDM          \n",
    "path = os.path.join(ROOT_PATH + 'Model_RDM/', getFileName('Model_RDM', NR_OF_SAMPLES, model_name, 'all'))\n",
    "np.save(path,RSA_matrix)\n",
    "\n",
    "        "
   ]
  },
  {
   "cell_type": "code",
   "execution_count": null,
   "metadata": {},
   "outputs": [],
   "source": []
  }
 ],
 "metadata": {
  "colab": {
   "name": "ImageNet: model RDM.ipynb",
   "provenance": [],
   "version": "0.3.2"
  },
  "kernelspec": {
   "display_name": "Python 3",
   "language": "python",
   "name": "python3"
  },
  "language_info": {
   "codemirror_mode": {
    "name": "ipython",
    "version": 3
   },
   "file_extension": ".py",
   "mimetype": "text/x-python",
   "name": "python",
   "nbconvert_exporter": "python",
   "pygments_lexer": "ipython3",
   "version": "3.7.4"
  }
 },
 "nbformat": 4,
 "nbformat_minor": 1
}
