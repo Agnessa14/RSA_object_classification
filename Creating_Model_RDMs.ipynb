{
 "cells": [
  {
   "cell_type": "markdown",
   "metadata": {},
   "source": [
    "# Set up the environment"
   ]
  },
  {
   "cell_type": "code",
   "execution_count": null,
   "metadata": {
    "colab": {},
    "colab_type": "code",
    "id": "p2yCI35Ec7YE"
   },
   "outputs": [],
   "source": [
    "import torchvision\n",
    "import torch\n",
    "import numpy as np\n",
    "import scipy.stats\n",
    "import sklearn.manifold\n",
    "import matplotlib.pyplot as plt\n",
    "from matplotlib.patches import Rectangle\n",
    "import seaborn\n",
    "import pandas as pd\n",
    "import sklearn\n",
    "import os\n",
    "import pickle\n",
    "import time\n",
    "from scipy.spatial import distance\n",
    "from scipy.stats import spearmanr\n",
    "from sklearn.metrics.pairwise import manhattan_distances\n",
    "from sklearn.manifold import TSNE, MDS\n",
    "from sklearn.decomposition import PCA\n",
    "from mpl_toolkits.mplot3d import Axes3D\n",
    "\n"
   ]
  },
  {
   "cell_type": "markdown",
   "metadata": {},
   "source": [
    "# Define a function to create a filename"
   ]
  },
  {
   "cell_type": "code",
   "execution_count": null,
   "metadata": {},
   "outputs": [],
   "source": [
    "def getFileName(name, n_samples, model_name, layer_name):\n",
    "    return name \\\n",
    "        + \"_{}_\".format(n_samples) \\\n",
    "        + \"_{}_\".format(model_name) \\\n",
    "        + \"_{}\".format(layer_name)  \\\n",
    "        + \".npy\"   "
   ]
  },
  {
   "cell_type": "markdown",
   "metadata": {},
   "source": [
    "# Define a function to create the upper triangular of Input RDMs"
   ]
  },
  {
   "cell_type": "code",
   "execution_count": null,
   "metadata": {},
   "outputs": [],
   "source": [
    "def get_upper_triangular(rdm):\n",
    "    num_conditions = rdm.shape[0] #num samples\n",
    "    return rdm[np.triu_indices(num_conditions,1)] #take all above the main diagonal (excluding it), returns flattened version\n",
    "\n"
   ]
  },
  {
   "cell_type": "markdown",
   "metadata": {},
   "source": [
    "# Create model RDMs by correlating between Input RDMs from different layers and models"
   ]
  },
  {
   "cell_type": "code",
   "execution_count": null,
   "metadata": {},
   "outputs": [],
   "source": [
    "model_name = 'resnet34' #change to model_names when running for multiple models\n",
    "layer_names_1 = np.array(['layer1.0','layer1.1','layer1.2','layer2.0','layer2.1','layer2.2','layer2.3','layer3.0','layer3.1',\n",
    "              'layer3.2','layer3.3','layer3.4','layer3.5','layer4.0','layer4.1','layer4.2'])\n",
    "#layer_names_2 = ... - for multiple models, you may need multiple layer names arrays\n",
    "NR_OF_SAMPLES = 10000;\n",
    "ROOT_PATH = '/mnt/raid/ni/agnessa/RSA/' \n",
    "RSA_matrix = np.ones((layer_names_1.shape[0],layer_names_1.shape[0])) #num layers x num layers\n",
    "RSA_matrix[:] = np.nan\n",
    "\n",
    "#1. get upper triangulars\n",
    "#2. aalculate the correlation distance (1-Spearman's coefficient) between the upper triangulars\n",
    "#3. repeat for all pairs of layers (and models)\n",
    "\n",
    "#for multiple models: replace by model & layer loops\n",
    "for layer_i in layer_names_1:\n",
    "    for layer_j in layer_names_1:\n",
    "    \n",
    "        ## load RDMs ##\n",
    "        RDM_PATH_i = os.path.join(ROOT_PATH, 'Input_RDM/' + getFileName('Input_RDM', NR_OF_SAMPLES, model_name, layer_i))\n",
    "        RDM_PATH_j = os.path.join(ROOT_PATH, 'Input_RDM/' + getFileName('Input_RDM', NR_OF_SAMPLES, model_name, layer_j))        \n",
    "        np_load_old = np.load # save np.load\n",
    "        np.load = lambda *a,**k: np_load_old(*a, allow_pickle=True, **k) # modify the default parameters of np.load: the function is acting weird otherwise\n",
    "        Input_RDM_i = np.load(RDM_PATH_i)\n",
    "        Input_RDM_j = np.load(RDM_PATH_j)\n",
    "        np.load = np_load_old #revert back to old function\n",
    "    \n",
    "        ## get upper triangulars, without the 0 diagonal\n",
    "        print('Getting the upper triangular of ->', layer_i)\n",
    "        ut_rdm_i = get_upper_triangular(Input_RDM_i)\n",
    "        print('Getting the upper triangular of ->', layer_j)\n",
    "        ut_rdm_j = get_upper_triangular(Input_RDM_j)\n",
    "            \n",
    "        # Spearman correlation\n",
    "        print('Calculating the correlation distance between ->', layer_i, 'and', layer_j)\n",
    "        RSA_i_j = 1- spearmanr(ut_rdm_i,ut_rdm_j)[0]\n",
    "        print('Finished the correlation distance between ->', layer_i, 'and', layer_j)\n",
    "        \n",
    "        # Save into a matrix \n",
    "        print('Saving the correlation distance between ->', layer_i, 'and', layer_j)\n",
    "        RSA_matrix[np.where(layer_names_1==layer_i)[0][0],np.where(layer_names_1==layer_j)[0][0]] = RSA_i_j\n",
    "        \n",
    "#save model RDM\n",
    "path = os.path.join(ROOT_PATH + 'Model_RDM/', getFileName('Model_RDM', NR_OF_SAMPLES, model_name, 'all'))\n",
    "np.save(path,RSA_matrix)\n",
    "\n",
    "        "
   ]
  }
 ],
 "metadata": {
  "colab": {
   "name": "ImageNet: model RDM.ipynb",
   "provenance": [],
   "version": "0.3.2"
  },
  "kernelspec": {
   "display_name": "Python 3",
   "language": "python",
   "name": "python3"
  },
  "language_info": {
   "codemirror_mode": {
    "name": "ipython",
    "version": 3
   },
   "file_extension": ".py",
   "mimetype": "text/x-python",
   "name": "python",
   "nbconvert_exporter": "python",
   "pygments_lexer": "ipython3",
   "version": "3.7.4"
  }
 },
 "nbformat": 4,
 "nbformat_minor": 1
}
