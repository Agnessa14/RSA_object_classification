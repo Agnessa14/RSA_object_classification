{
 "cells": [
  {
   "cell_type": "markdown",
   "metadata": {},
   "source": [
    "# Set up the environment"
   ]
  },
  {
   "cell_type": "code",
   "execution_count": 1,
   "metadata": {},
   "outputs": [],
   "source": [
    "import torch\n",
    "import codecs, json\n",
    "import numpy as np\n",
    "import torchvision.models as tmodels\n",
    "from torchvision.models import *\n",
    "import os"
   ]
  },
  {
   "cell_type": "markdown",
   "metadata": {},
   "source": [
    "# Pick the models of interest, load the weights and create a json file for each model"
   ]
  },
  {
   "cell_type": "code",
   "execution_count": 13,
   "metadata": {},
   "outputs": [],
   "source": [
    "model_names = np.array(['alexnet','resnet50','resnet18'])\n",
    "for arch in model_names:\n",
    "    model_file = '%s_places365.pth.tar' % arch\n",
    "    if not os.access(model_file, os.W_OK):\n",
    "        weight_url = 'http://places2.csail.mit.edu/models_places365/' + model_file\n",
    "        os.system('wget ' + weight_url)\n",
    "\n",
    "    model = tmodels.__dict__[arch](num_classes=365) #get the model's name + the name of all functions\n",
    "    checkpoint = torch.load(model_file, map_location=lambda storage, loc: storage) #load the weights\n",
    "    state_dict = {str.replace(k,'module.',''): v for k,v in checkpoint['state_dict'].items()} #remove the word 'modules'\n",
    "    model.load_state_dict(state_dict) #load the pretrained model?\n",
    "    \n",
    "    #create a dictionary of all layers\n",
    "    model_layers = []\n",
    "    for layer_name, m in model.named_modules():  \n",
    "        model_dict = {'model': arch,'layer': layer_name}\n",
    "        model_layers.append(model_dict)\n",
    "    \n",
    "    #save as .json \n",
    "    file_path = '/mnt/raid/ni/agnessa/RSA/'\n",
    "    path_name = os.path.join(file_path + '/layer_names/' + arch + '.json')   \n",
    "    json.dump(model_layers, codecs.open(path_name, 'w', encoding='utf-8'), separators=(',', ':'), sort_keys=False, indent=4) ### this saves the array in .json format \n",
    "    \n",
    "    #for resnets, select only a few layers\n",
    "    if 'res' in arch:\n",
    "        selected_layers = []\n",
    "        for layer_name,m in model.named_modules():\n",
    "            dots = 0\n",
    "            for char in layer_name:              \n",
    "                if char == '.':\n",
    "                    dots = dots+1\n",
    "            if dots == 1:     \n",
    "                model_dict_selected = {'model': arch,'layer': layer_name}\n",
    "                selected_layers.append(model_dict_selected)\n",
    "    path_name = os.path.join(file_path + '/layer_names/' + arch + '_selected_layers.json') \n",
    "    json.dump(selected_layers, codecs.open(path_name, 'w', encoding='utf-8'), separators=(',', ':'), sort_keys=False, indent=4) "
   ]
  }
 ],
 "metadata": {
  "kernelspec": {
   "display_name": "Python 3",
   "language": "python",
   "name": "python3"
  },
  "language_info": {
   "codemirror_mode": {
    "name": "ipython",
    "version": 3
   },
   "file_extension": ".py",
   "mimetype": "text/x-python",
   "name": "python",
   "nbconvert_exporter": "python",
   "pygments_lexer": "ipython3",
   "version": "3.7.4"
  }
 },
 "nbformat": 4,
 "nbformat_minor": 2
}
