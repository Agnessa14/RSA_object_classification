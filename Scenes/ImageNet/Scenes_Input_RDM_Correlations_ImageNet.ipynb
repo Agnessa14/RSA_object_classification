{
 "cells": [
  {
   "cell_type": "markdown",
   "metadata": {},
   "source": [
    "# Calculate the correlations for each layer and create input RDMs"
   ]
  },
  {
   "cell_type": "markdown",
   "metadata": {},
   "source": [
    "## Set up the environment"
   ]
  },
  {
   "cell_type": "code",
   "execution_count": 1,
   "metadata": {},
   "outputs": [],
   "source": [
    "import numpy as np\n",
    "import os\n",
    "import json\n",
    "import matplotlib.pyplot as plt\n",
    "import seaborn"
   ]
  },
  {
   "cell_type": "markdown",
   "metadata": {},
   "source": [
    "## Define the function to create filenames"
   ]
  },
  {
   "cell_type": "code",
   "execution_count": 2,
   "metadata": {},
   "outputs": [],
   "source": [
    "def getFileName(n_samples, name):\n",
    "    return name \\\n",
    "        + \"_{}_\".format(n_samples) \\\n",
    "        + \"_{}_\".format(model_name) \\\n",
    "        + \"_{}\".format(layer_name)   \\\n",
    "        + \".npy\"       "
   ]
  },
  {
   "cell_type": "markdown",
   "metadata": {},
   "source": [
    "## Select the model and layer"
   ]
  },
  {
   "cell_type": "code",
   "execution_count": 3,
   "metadata": {},
   "outputs": [],
   "source": [
    "ROOT_PATH = '/mnt/raid/ni/agnessa/RSA/Scenes/ImageNet'\n",
    "layers_path = '/mnt/raid/ni/agnessa/RSA/'\n",
    "NR_OF_SAMPLES = 10000\n",
    "#load json file with the layers of interest \n",
    "arch = 'alexnet'\n",
    "json_file_layers=os.path.join(layers_path + '/layer_names/',arch + '.json')\n",
    "\n",
    "#for resnets, use the selected layers file\n",
    "if 'res' in arch:\n",
    "    json_file_layers=os.path.join(layers_path + '/layer_names/',arch + '_selected_layers.json')\n",
    "with open(json_file_layers, \"r\") as fd:\n",
    "    selected_layers = json.load(fd)\n",
    "model_name, layer_name = selected_layers[13].get('model'),  selected_layers[13].get('layer') #change the index at each iteration\n"
   ]
  },
  {
   "cell_type": "markdown",
   "metadata": {},
   "source": [
    "## Define the correlation function"
   ]
  },
  {
   "cell_type": "code",
   "execution_count": 4,
   "metadata": {},
   "outputs": [],
   "source": [
    "def correlationd_matrix(batch_size): #(list_of_activations, n) ,array_activations\n",
    "    file_name = os.path.join(ROOT_PATH+'/activations/',getFileName(NR_OF_SAMPLES,'activations'))\n",
    "    act = np.load(file_name,mmap_mode='r') #mmap is used to access a part of the file \n",
    "    correlationd = np.zeros((NR_OF_SAMPLES,NR_OF_SAMPLES))\n",
    "    correlationd[:] = np.nan\n",
    "    num_batches = int(NR_OF_SAMPLES / batch_size)\n",
    "    total = sum(x+1 for x in range(num_batches)) #num 1000-wise comparisons to do: 55\n",
    "    index = 0\n",
    "   \n",
    "    for i in range(num_batches): #[0:9[\n",
    "        start_1 = batch_size*i\n",
    "        end_1 = batch_size*(i+1)\n",
    "        list_of_activations_1 = act[start_1:end_1,:]\n",
    "\n",
    "        for j in range(i,num_batches): #[i:10[\n",
    "            index += 1\n",
    "            print(\"New Iteration: i = {0}, j = {1}; {2}/{3}\".format(i,j,index,total))\n",
    "            start_2 = batch_size*(j)\n",
    "            end_2 = batch_size*(j+1)\n",
    "            list_of_activations_2 = act[start_2:end_2,:]\n",
    "            corr_activations = 1-np.corrcoef(list_of_activations_1,list_of_activations_2) #2000 x 2000 matrix\n",
    "\n",
    "            for x in range(corr_activations.shape[0]):\n",
    "                for y in range(corr_activations.shape[1]):\n",
    "                    if x < batch_size:\n",
    "                        start_x = start_1\n",
    "                    else: \n",
    "                        start_x = start_2-1000\n",
    "                    if y < batch_size:\n",
    "                        start_y = start_1\n",
    "                    else:\n",
    "                        start_y = start_2-1000                       \n",
    "                    correlationd[x+start_x,y+start_y] = correlationd[y+start_y,x+start_x] = corr_activations[x,y]\n",
    "\n",
    "    return(correlationd)"
   ]
  },
  {
   "cell_type": "code",
   "execution_count": null,
   "metadata": {},
   "outputs": [
    {
     "name": "stdout",
     "output_type": "stream",
     "text": [
      "Calculating the correlations for model:  alexnet and layer:  features.11\n",
      "New Iteration: i = 0, j = 0; 1/55\n",
      "New Iteration: i = 0, j = 1; 2/55\n",
      "New Iteration: i = 0, j = 2; 3/55\n",
      "New Iteration: i = 0, j = 3; 4/55\n",
      "New Iteration: i = 0, j = 4; 5/55\n",
      "New Iteration: i = 0, j = 5; 6/55\n",
      "New Iteration: i = 0, j = 6; 7/55\n",
      "New Iteration: i = 0, j = 7; 8/55\n",
      "New Iteration: i = 0, j = 8; 9/55\n",
      "New Iteration: i = 0, j = 9; 10/55\n",
      "New Iteration: i = 1, j = 1; 11/55\n",
      "New Iteration: i = 1, j = 2; 12/55\n",
      "New Iteration: i = 1, j = 3; 13/55\n",
      "New Iteration: i = 1, j = 4; 14/55\n",
      "New Iteration: i = 1, j = 5; 15/55\n",
      "New Iteration: i = 1, j = 6; 16/55\n",
      "New Iteration: i = 1, j = 7; 17/55\n",
      "New Iteration: i = 1, j = 8; 18/55\n",
      "New Iteration: i = 1, j = 9; 19/55\n",
      "New Iteration: i = 2, j = 2; 20/55\n",
      "New Iteration: i = 2, j = 3; 21/55\n",
      "New Iteration: i = 2, j = 4; 22/55\n",
      "New Iteration: i = 2, j = 5; 23/55\n",
      "New Iteration: i = 2, j = 6; 24/55\n",
      "New Iteration: i = 2, j = 7; 25/55\n",
      "New Iteration: i = 2, j = 8; 26/55\n",
      "New Iteration: i = 2, j = 9; 27/55\n",
      "New Iteration: i = 3, j = 3; 28/55\n",
      "New Iteration: i = 3, j = 4; 29/55\n",
      "New Iteration: i = 3, j = 5; 30/55\n",
      "New Iteration: i = 3, j = 6; 31/55\n",
      "New Iteration: i = 3, j = 7; 32/55\n",
      "New Iteration: i = 3, j = 8; 33/55\n",
      "New Iteration: i = 3, j = 9; 34/55\n",
      "New Iteration: i = 4, j = 4; 35/55\n",
      "New Iteration: i = 4, j = 5; 36/55\n",
      "New Iteration: i = 4, j = 6; 37/55\n",
      "New Iteration: i = 4, j = 7; 38/55\n",
      "New Iteration: i = 4, j = 8; 39/55\n",
      "New Iteration: i = 4, j = 9; 40/55\n",
      "New Iteration: i = 5, j = 5; 41/55\n",
      "New Iteration: i = 5, j = 6; 42/55\n",
      "New Iteration: i = 5, j = 7; 43/55\n",
      "New Iteration: i = 5, j = 8; 44/55\n",
      "New Iteration: i = 5, j = 9; 45/55\n",
      "New Iteration: i = 6, j = 6; 46/55\n",
      "New Iteration: i = 6, j = 7; 47/55\n",
      "New Iteration: i = 6, j = 8; 48/55\n",
      "New Iteration: i = 6, j = 9; 49/55\n",
      "New Iteration: i = 7, j = 7; 50/55\n",
      "New Iteration: i = 7, j = 8; 51/55\n",
      "New Iteration: i = 7, j = 9; 52/55\n",
      "New Iteration: i = 8, j = 8; 53/55\n",
      "New Iteration: i = 8, j = 9; 54/55\n",
      "New Iteration: i = 9, j = 9; 55/55\n",
      "Save Input RDM -> /mnt/raid/ni/agnessa/RSA/Scenes/ImageNet/Input_RDM/Input_RDM__10000__alexnet__features.11.npy\n"
     ]
    }
   ],
   "source": [
    "print('Calculating the correlations for model: ',model_name,'and layer: ',layer_name)\n",
    "corr_matrix = correlationd_matrix(1000) \n",
    "path = os.path.join(ROOT_PATH + '/Input_RDM/', getFileName(NR_OF_SAMPLES, \"Input_RDM_\"))\n",
    "print(\"Save Input RDM -> {}\".format(path))\n",
    "np.save(path, np.array(corr_matrix)) \n",
    "fig = plt.figure(figsize=(17,15))\n",
    "ax = seaborn.heatmap(corr_matrix, cmap='rainbow', vmin=0.5, vmax=1.0)\n",
    "path_fig = os.path.join(ROOT_PATH + '/Input_RDM_plots', getFileName(NR_OF_SAMPLES,\"Input_RDM_\") + '.png')\n",
    "fig.savefig(path_fig)"
   ]
  },
  {
   "cell_type": "markdown",
   "metadata": {},
   "source": [
    "## In case the load function does not work"
   ]
  },
  {
   "cell_type": "code",
   "execution_count": null,
   "metadata": {},
   "outputs": [],
   "source": [
    "#If the load function gives an error, do this\n",
    "np_load_old = np.load # modify the default parameters of np.load\n",
    "np.load = lambda *a,**k: np_load_old(*a, allow_pickle=True, **k)\n",
    "activations_shape = np.load(path)\n",
    "np.load = np_load_old"
   ]
  }
 ],
 "metadata": {
  "kernelspec": {
   "display_name": "Python 3",
   "language": "python",
   "name": "python3"
  },
  "language_info": {
   "codemirror_mode": {
    "name": "ipython",
    "version": 3
   },
   "file_extension": ".py",
   "mimetype": "text/x-python",
   "name": "python",
   "nbconvert_exporter": "python",
   "pygments_lexer": "ipython3",
   "version": "3.7.4"
  }
 },
 "nbformat": 4,
 "nbformat_minor": 2
}
