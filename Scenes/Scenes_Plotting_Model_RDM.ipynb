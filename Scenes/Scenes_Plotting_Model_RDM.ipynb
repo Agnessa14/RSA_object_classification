{
 "cells": [
  {
   "cell_type": "markdown",
   "metadata": {},
   "source": [
    "# Set up the environment"
   ]
  },
  {
   "cell_type": "code",
   "execution_count": null,
   "metadata": {},
   "outputs": [],
   "source": [
    "import numpy as np\n",
    "import os\n",
    "import json\n",
    "import matplotlib.pyplot as plt\n",
    "import seaborn\n",
    "from sklearn.manifold import TSNE, MDS"
   ]
  },
  {
   "cell_type": "markdown",
   "metadata": {},
   "source": [
    "# Define a function to create a filename\n"
   ]
  },
  {
   "cell_type": "code",
   "execution_count": null,
   "metadata": {},
   "outputs": [],
   "source": [
    "def getFileName(name, n_samples, model_name, layer_name):\n",
    "    return name \\\n",
    "        + \"_{}_\".format(n_samples) \\\n",
    "        + \"_{}_\".format(model_name) \\\n",
    "        + \"_{}\".format(layer_name)  \\\n",
    "        + \".npy\"   "
   ]
  },
  {
   "cell_type": "markdown",
   "metadata": {},
   "source": [
    "# Get the model and layers' names and load the model RDM"
   ]
  },
  {
   "cell_type": "code",
   "execution_count": null,
   "metadata": {},
   "outputs": [],
   "source": [
    "#define the required variables\n",
    "multiple_models = 0 #1 is multiple models, 0 is not\n",
    "dataset = 'imagenet'\n",
    "arch = 'alexnet'\n",
    "                                                ####################\n",
    "\n",
    "ROOT_PATH = '/mnt/raid/ni/agnessa/RSA/Scenes/'\n",
    "layers_path = '/mnt/raid/ni/agnessa/RSA/'\n",
    "if dataset == 'imagenet':\n",
    "    NR_OF_SAMPLES = 10000\n",
    "    path_dataset_specific = 'ImageNet/'\n",
    "elif dataset == 'places365':\n",
    "    NR_OF_SAMPLES = 10220\n",
    "    path_dataset_specific = 'Places365/'\n",
    "json_file_layers=os.path.join(layers_path + '/layer_names/',arch + '.json')\n",
    "\n",
    "#for resnets, use the selected layers file\n",
    "if 'res' in arch:\n",
    "    json_file_layers=os.path.join(layers_path + '/layer_names/',arch + '_selected_layers.json')\n",
    "with open(json_file_layers, \"r\") as fd:\n",
    "    selected_layers = json.load(fd)\n",
    "\n",
    "#get the name of the model(s) and of the layers\n",
    "num_layers_1 = 23\n",
    "model_begin_1 = 1 #index of the first layer of the desired model\n",
    "model_name_1 = selected_layers[model_begin_1].get('model') \n",
    "layer_names_1 = []\n",
    "\n",
    "if multiple_models == 1:\n",
    "    num_layers_2 = 16\n",
    "    model_begin_2 = 16\n",
    "    model_name_2 = selected_layers[model_begin_2].get('model')\n",
    "    layer_names_2 = []\n",
    "\n",
    "#append the layers \n",
    "for i in range(num_layers_1):\n",
    "    layer_names_1.append(selected_layers[model_begin_1+i].get('layer'))   \n",
    "if multiple_models == 1:\n",
    "    for j in range(num_layers_2):\n",
    "        layer_names_2.append(selected_layers[model_begin_2+j].get('layer'))\n",
    "    \n",
    "#Load the model RDM\n",
    "layer_name_model_rdm = 'all'\n",
    "if multiple_models == 1:\n",
    "    model_name = model_name_1 + '_' + model_name_2\n",
    "elif multiple_models == 0:\n",
    "    model_name = model_name_1\n",
    "path = os.path.join(ROOT_PATH + path_dataset_specific + 'Model_RDM/', getFileName(\"Model_RDM\",NR_OF_SAMPLES,model_name,layer_name_model_rdm))\n",
    "Model_RDM = np.load(path)\n",
    "print('Loaded model ',model_name)"
   ]
  },
  {
   "cell_type": "markdown",
   "metadata": {},
   "source": [
    "# Plot the Model RDM\n"
   ]
  },
  {
   "cell_type": "code",
   "execution_count": null,
   "metadata": {},
   "outputs": [],
   "source": [
    "print(\"Plotting Model RDM for model -> \", model_name)\n",
    "Model_RDM[np.isnan(Model_RDM)]=0.0 \n",
    "fig = plt.figure(figsize=(18,15))\n",
    "ax = seaborn.heatmap(Model_RDM, xticklabels = layer_names_1, yticklabels = layer_names_1, cmap='rainbow', vmin=0.0, vmax=1.0)\n",
    "plt.xticks(rotation=90) \n",
    "plt.yticks(rotation=0)\n",
    "plt.show()"
   ]
  },
  {
   "cell_type": "markdown",
   "metadata": {},
   "source": [
    "# Save as a .png file"
   ]
  },
  {
   "cell_type": "code",
   "execution_count": null,
   "metadata": {},
   "outputs": [],
   "source": [
    "path = os.path.join(ROOT_PATH + path_dataset_specific + 'Model_RDM_plots', getFileName(\"Model_RDM\",NR_OF_SAMPLES,model_name,layer_name_model_rdm) + '.png')\n",
    "fig.savefig(path)"
   ]
  },
  {
   "cell_type": "markdown",
   "metadata": {},
   "source": [
    "# Multidimensional scaling"
   ]
  },
  {
   "cell_type": "code",
   "execution_count": null,
   "metadata": {},
   "outputs": [],
   "source": [
    "mds = MDS(n_components=2, n_init=200, max_iter=2000, eps=0.0001, dissimilarity='precomputed')\n",
    "data_embedded = mds.fit_transform(Model_RDM)"
   ]
  },
  {
   "cell_type": "code",
   "execution_count": null,
   "metadata": {},
   "outputs": [],
   "source": [
    "sorted_layers = [1,2,3,4,5,6,7,8,9,10,11,12,13,14,15,16,17,18,19,20,21,22,23]\n",
    "fig = plt.figure(figsize=(12,6)) \n",
    "plt.scatter(data_embedded[:, 0], data_embedded[:, 1], c=sorted_layers, cmap = 'rainbow', marker = '^')\n",
    "\n",
    "for i in range(np.array(layer_names_1).shape[0]):\n",
    "    plt.annotate(layer_names_1[i], (data_embedded[i, 0], data_embedded[i, 1]))\n",
    "\n",
    "cbar = plt.colorbar()\n",
    "# cbar.ax.set_ylabel('Layer', rotation=270)\n",
    "plt.show()\n"
   ]
  },
  {
   "cell_type": "code",
   "execution_count": null,
   "metadata": {},
   "outputs": [],
   "source": [
    "path = os.path.join(ROOT_PATH + path_dataset_specific +'Model_RDM_MDS', getFileName(\"Model_RDM_MDS_full\",NR_OF_SAMPLES,model_name,layer_name_model_rdm) + '.png')\n",
    "fig.savefig(path)"
   ]
  },
  {
   "cell_type": "code",
   "execution_count": null,
   "metadata": {},
   "outputs": [],
   "source": []
  }
 ],
 "metadata": {
  "kernelspec": {
   "display_name": "Python 3",
   "language": "python",
   "name": "python3"
  },
  "language_info": {
   "codemirror_mode": {
    "name": "ipython",
    "version": 3
   },
   "file_extension": ".py",
   "mimetype": "text/x-python",
   "name": "python",
   "nbconvert_exporter": "python",
   "pygments_lexer": "ipython3",
   "version": "3.7.4"
  }
 },
 "nbformat": 4,
 "nbformat_minor": 2
}
