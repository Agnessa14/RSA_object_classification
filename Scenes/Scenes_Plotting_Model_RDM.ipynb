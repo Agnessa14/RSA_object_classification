{
 "cells": [
  {
   "cell_type": "markdown",
   "metadata": {},
   "source": [
    "# Set up the environment"
   ]
  },
  {
   "cell_type": "code",
   "execution_count": 1,
   "metadata": {},
   "outputs": [],
   "source": [
    "import numpy as np\n",
    "import os\n",
    "import json\n",
    "import matplotlib.pyplot as plt\n",
    "import seaborn\n",
    "from sklearn.manifold import TSNE, MDS"
   ]
  },
  {
   "cell_type": "markdown",
   "metadata": {},
   "source": [
    "# Define a function to create a filename\n"
   ]
  },
  {
   "cell_type": "code",
   "execution_count": 2,
   "metadata": {},
   "outputs": [],
   "source": [
    "def getFileName(name, n_samples, model_name, layer_name):\n",
    "    return name \\\n",
    "        + \"_{}_\".format(n_samples) \\\n",
    "        + \"_{}_\".format(model_name) \\\n",
    "        + \"_{}\".format(layer_name)  \\\n",
    "        + \".npy\"   "
   ]
  },
  {
   "cell_type": "markdown",
   "metadata": {},
   "source": [
    "# Get the model and layers' names and load the model RDM"
   ]
  },
  {
   "cell_type": "code",
   "execution_count": 25,
   "metadata": {},
   "outputs": [
    {
     "name": "stdout",
     "output_type": "stream",
     "text": [
      "Loaded model  resnet50_resnext101_32x8d\n"
     ]
    }
   ],
   "source": [
    "multiple_models = 1 #comparing within a model or between models; 1 = between, 0 = within\n",
    "trained_on_1 = 'places'\n",
    "trained_on_2 = 'imagenet'\n",
    "tested_on = 'imagenet'\n",
    "\n",
    "#load the np file containing the shape of the activations\n",
    "ROOT_PATH = '/mnt/raid/ni/agnessa/RSA/'\n",
    "layers_path = '/mnt/raid/ni/agnessa/RSA/'\n",
    "\n",
    "if trained_on_1 == 'imagenet':\n",
    "    path_data_1 = 'Objects/'\n",
    "    if tested_on == 'imagenet':\n",
    "        NR_OF_SAMPLES = 10000\n",
    "    elif tested_on == 'places365':\n",
    "        NR_OF_SAMPLES = 10220\n",
    "\n",
    "elif trained_on_1 == 'places':\n",
    "    if tested_on == 'imagenet':\n",
    "        NR_OF_SAMPLES = 10000\n",
    "        path_data_1 = 'Scenes/ImageNet/'\n",
    "    elif tested_on == 'places365':\n",
    "        NR_OF_SAMPLES = 10220\n",
    "        path_data_1 = 'Scenes/Places365/'\n",
    "\n",
    "if trained_on_2 == 'imagenet':\n",
    "    path_data_2 = 'Objects/'\n",
    "    if tested_on == 'imagenet':\n",
    "        NR_OF_SAMPLES = 10000\n",
    "    elif tested_on == 'places365':\n",
    "        NR_OF_SAMPLES = 10220\n",
    "\n",
    "elif trained_on_2 == 'places':\n",
    "    if tested_on == 'imagenet':\n",
    "        NR_OF_SAMPLES = 10000\n",
    "        path_data_2 = 'Scenes/ImageNet/'\n",
    "    elif tested_on == 'places365':\n",
    "        NR_OF_SAMPLES = 10220\n",
    "        path_data_2 = 'Scenes/Places365/'\n",
    "    \n",
    "arch_1 = 'resnet50'\n",
    "json_file_layers=os.path.join(layers_path + 'layer_names/',arch_1 + '.json')\n",
    "\n",
    "#for resnets, use the selected layers file\n",
    "if 'res' in arch_1:\n",
    "    json_file_layers=os.path.join(layers_path + 'layer_names/',arch_1 + '_selected_layers.json')\n",
    "with open(json_file_layers, \"r\") as fd:\n",
    "    selected_layers_1 = json.load(fd)\n",
    "\n",
    "#get the name of the model(s) and of the layers\n",
    "num_layers_1 = 16\n",
    "model_begin_1 = 0 #index of the first layer of the desired model\n",
    "model_name_1 = selected_layers_1[model_begin_1].get('model') \n",
    "layer_names_1 = []\n",
    "\n",
    "if multiple_models == 1:\n",
    "    arch_2 = 'resnext'\n",
    "    \n",
    "    #for resnets, use the selected layers file\n",
    "    if arch_2 == 'resnet34' or arch_2 == 'resnet50' or arch_2 == 'resnext':\n",
    "        json_file_layers=os.path.join(layers_path + 'layer_names/', 'resnets_selected_layers.json')\n",
    "    with open(json_file_layers, \"r\") as fd:\n",
    "        selected_layers_2 = json.load(fd)\n",
    "    num_layers_2 = 33 #change depending on the model\n",
    "    model_begin_2 = 32\n",
    "    model_name_2 = selected_layers_2[model_begin_2].get('model')\n",
    "    layer_names_2 = []\n",
    "\n",
    "#append the layers from the first model\n",
    "for i in range(num_layers_1):\n",
    "    layer_names_1.append(selected_layers_1[model_begin_1+i].get('layer'))   \n",
    "    \n",
    "if multiple_models == 1:\n",
    "    for j in range(num_layers_2):  #append the layers from the second model\n",
    "        layer_names_2.append(selected_layers_2[model_begin_2+j].get('layer'))\n",
    "\n",
    "if multiple_models == 1:\n",
    "    model_name = model_name_1 + '_' + model_name_2\n",
    "else:\n",
    "    model_name = model_name_2 = model_name_1  \n",
    "    layer_names_2 = layer_names_1\n",
    "        \n",
    "path = os.path.join(ROOT_PATH + path_data_1 + 'Model_RDM/', \\\n",
    "                    getFileName(\"Model_RDM_cross_task\",NR_OF_SAMPLES,model_name,'all'))\n",
    "Model_RDM = np.load(path)\n",
    "print('Loaded model ',model_name)"
   ]
  },
  {
   "cell_type": "markdown",
   "metadata": {},
   "source": [
    "# Plot the Model RDM\n"
   ]
  },
  {
   "cell_type": "code",
   "execution_count": 28,
   "metadata": {},
   "outputs": [
    {
     "name": "stdout",
     "output_type": "stream",
     "text": [
      "Plotting Model RDM for model ->  resnet50_resnext101_32x8d\n"
     ]
    },
    {
     "data": {
      "image/png": "[encoded data removed]",
      "text/plain": [
       "<Figure size 1224x576 with 2 Axes>"
      ]
     },
     "metadata": {
      "needs_background": "light"
     },
     "output_type": "display_data"
    }
   ],
   "source": [
    "print(\"Plotting Model RDM for model -> \", model_name)\n",
    "Model_RDM[np.isnan(Model_RDM)]=0.0 \n",
    "ln1 = np.array(layer_names_1)\n",
    "ln2 = np.array(layer_names_2)\n",
    "if arch_1 == 'alexnet':\n",
    "    if Model_RDM.shape[0] == 23: \n",
    "        Model_RDM = np.delete(Model_RDM,[3,15,22],0)\n",
    "        ln1 = np.delete(ln1,[3,15,22],0)\n",
    "plot_model = Model_RDM[0:num_layers_1,0:num_layers_2]#[model_begin_1:num_layers_1,model_begin_2:num_layers_2]\n",
    "fig = plt.figure(figsize=(17,8)) #change depending on the size of the model \n",
    "\n",
    "ax = seaborn.heatmap(plot_model, xticklabels = ln2, yticklabels = ln1, cmap='rainbow', vmin=0.0, vmax=1.0)\n",
    "plt.xticks(rotation=90) \n",
    "plt.yticks(rotation=0)\n",
    "plt.show()"
   ]
  },
  {
   "cell_type": "markdown",
   "metadata": {},
   "source": [
    "# Save as a .png file"
   ]
  },
  {
   "cell_type": "code",
   "execution_count": 29,
   "metadata": {},
   "outputs": [],
   "source": [
    "path = os.path.join(ROOT_PATH + path_data_1 + 'Model_RDM_plots', getFileName(\"Model_RDM\",NR_OF_SAMPLES,model_name,'all') + '.png')\n",
    "fig.savefig(path)\n",
    "path = os.path.join(ROOT_PATH + path_data_1 + 'Model_RDM_plots', getFileName(\"Model_RDM\",NR_OF_SAMPLES,model_name,'all') + '.svg')\n",
    "fig.savefig(path)"
   ]
  },
  {
   "cell_type": "markdown",
   "metadata": {},
   "source": [
    "# Multidimensional scaling"
   ]
  },
  {
   "cell_type": "code",
   "execution_count": null,
   "metadata": {},
   "outputs": [],
   "source": [
    "mds = MDS(n_components=2, n_init=200, max_iter=2000, eps=0.0001, dissimilarity='precomputed')\n",
    "data_embedded = mds.fit_transform(Model_RDM)"
   ]
  },
  {
   "cell_type": "code",
   "execution_count": null,
   "metadata": {},
   "outputs": [],
   "source": [
    "sorted_layers = [1.0,1.1,1.2,2.0,2.1,2.2,2.3,3.0,3.1,3.2,3.3,3.4,3.5,4.0,4.1,4.2]\n",
    "fig = plt.figure(figsize=(8,4)) \n",
    "plt.scatter(data_embedded[:, 0], data_embedded[:, 1], c=sorted_layers, cmap = 'rainbow', marker = '^')\n",
    "\n",
    "for i in range(np.array(layer_names_1).shape[0]):\n",
    "    plt.annotate(layer_names_1[i], (data_embedded[i, 0], data_embedded[i, 1]))\n",
    "\n",
    "cbar = plt.colorbar()\n",
    "# cbar.ax.set_ylabel('Layer', rotation=270)\n",
    "plt.show()\n"
   ]
  },
  {
   "cell_type": "code",
   "execution_count": null,
   "metadata": {},
   "outputs": [],
   "source": [
    "path = os.path.join(ROOT_PATH + path_dataset_specific +'Model_RDM_MDS', getFileName(\"Model_RDM_MDS_full\",NR_OF_SAMPLES,model_name,layer_name_model_rdm) + '.png')\n",
    "fig.savefig(path)"
   ]
  },
  {
   "cell_type": "code",
   "execution_count": null,
   "metadata": {},
   "outputs": [],
   "source": []
  }
 ],
 "metadata": {
  "kernelspec": {
   "display_name": "Python 3",
   "language": "python",
   "name": "python3"
  },
  "language_info": {
   "codemirror_mode": {
    "name": "ipython",
    "version": 3
   },
   "file_extension": ".py",
   "mimetype": "text/x-python",
   "name": "python",
   "nbconvert_exporter": "python",
   "pygments_lexer": "ipython3",
   "version": "3.7.4"
  }
 },
 "nbformat": 4,
 "nbformat_minor": 2
}
