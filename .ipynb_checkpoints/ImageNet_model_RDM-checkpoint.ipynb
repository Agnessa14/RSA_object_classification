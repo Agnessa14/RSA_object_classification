{
 "cells": [
  {
   "cell_type": "code",
   "execution_count": 0,
   "metadata": {
    "colab": {},
    "colab_type": "code",
    "id": "p2yCI35Ec7YE"
   },
   "outputs": [],
   "source": [
    "from google.colab import drive \n",
    "drive.mount('/content/gdrive', force_remount=True)\n",
    "\n",
    "import torchvision\n",
    "import torch\n",
    "import numpy as np\n",
    "import scipy.stats\n",
    "import sklearn.manifold\n",
    "import matplotlib.pyplot as plt\n",
    "from matplotlib.patches import Rectangle\n",
    "import seaborn\n",
    "import pandas as pd\n",
    "import sklearn\n",
    "import os\n",
    "import pickle\n",
    "import time\n",
    "from scipy.spatial import distance\n",
    "from sklearn.metrics.pairwise import manhattan_distances\n",
    "from sklearn.manifold import TSNE, MDS\n",
    "from sklearn.decomposition import PCA\n",
    "from mpl_toolkits.mplot3d import Axes3D\n",
    "\n",
    "ROOT_PATH = 'gdrive/My Drive/NI Project - RSA/'"
   ]
  },
  {
   "cell_type": "code",
   "execution_count": 0,
   "metadata": {
    "colab": {},
    "colab_type": "code",
    "id": "TRPDw8VnKe4E"
   },
   "outputs": [],
   "source": [
    "def corr_dist(triu_model_1, triu_model_2):\n",
    "  return 1 - scipy.stats.spearmanr(triu_model_1.flatten(), triu_model_2.flatten())[0]"
   ]
  },
  {
   "cell_type": "code",
   "execution_count": 0,
   "metadata": {
    "colab": {},
    "colab_type": "code",
    "id": "H0zn1ZEQQUS9"
   },
   "outputs": [],
   "source": [
    "def manhattan_dist(triu_model_1, triu_model_2):\n",
    "  return np.sum(np.abs(triu_model_1.flatten() - triu_model_2.flatten()))"
   ]
  },
  {
   "cell_type": "code",
   "execution_count": 0,
   "metadata": {
    "colab": {},
    "colab_type": "code",
    "id": "t0BNihnmc4aY"
   },
   "outputs": [],
   "source": [
    "import gc"
   ]
  },
  {
   "cell_type": "code",
   "execution_count": 0,
   "metadata": {
    "colab": {},
    "colab_type": "code",
    "id": "fzzMSo-mKpdQ"
   },
   "outputs": [],
   "source": [
    "def calc_rdm(dist_fun):#=files, corr_distances_dict=corr_distances_dict):\n",
    "  n = len(files_sorted)\n",
    "  rdm = np.zeros((n,n))\n",
    "  for i in range(n):\n",
    "      for j in range(i + 1, n):\n",
    "          rdm[i,j] = rdm[j, i] = dist_fun(data[acc_sorted_idx[i]], data[acc_sorted_idx[j]])\n",
    "          print(i, j, rdm[i,j])\n",
    "          gc.collect()\n",
    "  return rdm"
   ]
  },
  {
   "cell_type": "markdown",
   "metadata": {
    "colab_type": "text",
    "id": "1_dVAyOUdgvw"
   },
   "source": [
    "## Eucledian distance"
   ]
  },
  {
   "cell_type": "code",
   "execution_count": 0,
   "metadata": {
    "colab": {
     "base_uri": "https://localhost:8080/",
     "height": 318
    },
    "colab_type": "code",
    "id": "A_uKIX0oYxgH",
    "outputId": "1ac8ab7f-66f5-45a9-d9f6-9b42acfc88bf"
   },
   "outputs": [
    {
     "name": "stdout",
     "output_type": "stream",
     "text": [
      "0\n",
      "1\n",
      "2\n",
      "3\n",
      "4\n",
      "5\n",
      "6\n",
      "7\n",
      "8\n",
      "9\n",
      "10\n",
      "11\n",
      "12\n",
      "13\n",
      "14\n",
      "15\n",
      "16\n",
      "17\n"
     ]
    }
   ],
   "source": [
    "rdm = calc_rdm(distance.euclidean)"
   ]
  },
  {
   "cell_type": "code",
   "execution_count": 0,
   "metadata": {
    "colab": {
     "base_uri": "https://localhost:8080/",
     "height": 269
    },
    "colab_type": "code",
    "id": "zFlkWUarZgVi",
    "outputId": "515e300c-0ce2-4214-8df2-963d83fe2485"
   },
   "outputs": [
    {
     "data": {
      "image/png": "[encoded data removed]",
      "text/plain": [
       "<Figure size 432x288 with 2 Axes>"
      ]
     },
     "metadata": {
      "tags": []
     },
     "output_type": "display_data"
    }
   ],
   "source": [
    "ax = seaborn.heatmap(rdm / np.sqrt(500), cmap='rainbow')"
   ]
  },
  {
   "cell_type": "markdown",
   "metadata": {
    "colab_type": "text",
    "id": "o4Kvz3v5eCwm"
   },
   "source": [
    "## Сorrelation distance requires too much RAM. Below is more efficient implementation working around this problem by explicit memory management"
   ]
  },
  {
   "cell_type": "code",
   "execution_count": 0,
   "metadata": {
    "colab": {
     "base_uri": "https://localhost:8080/",
     "height": 1000
    },
    "colab_type": "code",
    "id": "HUsqpOF7eFKx",
    "outputId": "d9a25ba5-2b31-4fe9-c737-3902ff4e8516"
   },
   "outputs": [
    {
     "name": "stdout",
     "output_type": "stream",
     "text": [
      "0 1\n",
      "0 2\n",
      "0 3\n",
      "0 4\n",
      "0 5\n",
      "0 6\n",
      "0 7\n",
      "0 8\n",
      "0 9\n",
      "0 10\n",
      "0 11\n",
      "0 12\n",
      "0 13\n",
      "0 14\n",
      "0 15\n",
      "0 16\n",
      "0 17\n",
      "1 2\n",
      "1 3\n",
      "1 4\n",
      "1 5\n",
      "1 6\n",
      "1 7\n",
      "1 8\n",
      "1 9\n",
      "1 10\n",
      "1 11\n",
      "1 12\n",
      "1 13\n",
      "1 14\n",
      "1 15\n",
      "1 16\n",
      "1 17\n",
      "2 3\n",
      "2 4\n",
      "2 5\n",
      "2 6\n",
      "2 7\n",
      "2 8\n",
      "2 9\n",
      "2 10\n",
      "2 11\n",
      "2 12\n",
      "2 13\n",
      "2 14\n",
      "2 15\n",
      "2 16\n",
      "2 17\n",
      "3 4\n",
      "3 5\n",
      "3 6\n",
      "3 7\n",
      "3 8\n",
      "3 9\n",
      "3 10\n",
      "3 11\n",
      "3 12\n",
      "3 13\n",
      "3 14\n",
      "3 15\n",
      "3 16\n",
      "3 17\n",
      "4 5\n",
      "4 6\n",
      "4 7\n",
      "4 8\n",
      "4 9\n",
      "4 10\n",
      "4 11\n",
      "4 12\n",
      "4 13\n",
      "4 14\n",
      "4 15\n",
      "4 16\n",
      "4 17\n",
      "5 6\n",
      "5 7\n",
      "5 8\n",
      "5 9\n",
      "5 10\n",
      "5 11\n",
      "5 12\n",
      "5 13\n",
      "5 14\n",
      "5 15\n",
      "5 16\n",
      "5 17\n",
      "6 7\n",
      "6 8\n",
      "6 9\n",
      "6 10\n",
      "6 11\n",
      "6 12\n",
      "6 13\n",
      "6 14\n",
      "6 15\n",
      "6 16\n",
      "6 17\n",
      "7 8\n",
      "7 9\n",
      "7 10\n",
      "7 11\n",
      "7 12\n",
      "7 13\n",
      "7 14\n",
      "7 15\n",
      "7 16\n",
      "7 17\n",
      "8 9\n",
      "8 10\n",
      "8 11\n",
      "8 12\n",
      "8 13\n",
      "8 14\n",
      "8 15\n",
      "8 16\n",
      "8 17\n",
      "9 10\n",
      "9 11\n",
      "9 12\n",
      "9 13\n",
      "9 14\n",
      "9 15\n",
      "9 16\n",
      "9 17\n",
      "10 11\n",
      "10 12\n",
      "10 13\n",
      "10 14\n",
      "10 15\n",
      "10 16\n",
      "10 17\n",
      "11 12\n",
      "11 13\n",
      "11 14\n",
      "11 15\n",
      "11 16\n",
      "11 17\n",
      "12 13\n",
      "12 14\n",
      "12 15\n",
      "12 16\n",
      "12 17\n",
      "13 14\n",
      "13 15\n",
      "13 16\n",
      "13 17\n",
      "14 15\n",
      "14 16\n",
      "14 17\n",
      "15 16\n",
      "15 17\n",
      "16 17\n"
     ]
    }
   ],
   "source": [
    "n = len(files_sorted)\n",
    "rdm = np.zeros((n,n))\n",
    "\n",
    "for i, fi in enumerate(files_sorted):\n",
    "  curi = np.load(ROOT_PATH + 'RSA_on_ImageNet/activations/' + fi)\n",
    "  ith = curi[triu_idx]\n",
    "  for j in range(i+1, n):\n",
    "    print(i, j)\n",
    "    fj = files_sorted[j]\n",
    "    curj = np.load(ROOT_PATH + 'RSA_on_ImageNet/activations/' + fj)\n",
    "    jth = curj[triu_idx]\n",
    "\n",
    "    rdm[i,j] = rdm[j, i] = corr_dist(ith, jth)\n",
    "    del(curj)\n",
    "  del(curi)"
   ]
  },
  {
   "cell_type": "code",
   "execution_count": 0,
   "metadata": {
    "colab": {
     "base_uri": "https://localhost:8080/",
     "height": 920
    },
    "colab_type": "code",
    "id": "ofRyLeCifMYm",
    "outputId": "828c5c58-e3b5-4d05-9fe5-4fbb39444f1f"
   },
   "outputs": [
    {
     "name": "stdout",
     "output_type": "stream",
     "text": [
      "[[0.         0.44618438 0.43311177 0.43225877 0.66315336 0.53558605\n",
      "  0.54386474 0.50656996 0.54737285 0.57465025 0.55669498 0.55866388\n",
      "  0.58350418 0.98389502 0.53976956 0.76663495 0.76822611 0.69280236]\n",
      " [0.44618438 0.         0.39565955 0.37952243 0.56552093 0.47050321\n",
      "  0.47461226 0.44599635 0.48794083 0.51171746 0.48635536 0.48655337\n",
      "  0.51885118 0.98412759 0.47304991 0.68387589 0.68752588 0.65379374]\n",
      " [0.43311177 0.39565955 0.         0.29819499 0.44977432 0.37434621\n",
      "  0.37520289 0.3654799  0.41046981 0.41576248 0.3786022  0.37997907\n",
      "  0.41833275 0.98365126 0.39030933 0.59220776 0.60076341 0.55497266]\n",
      " [0.43225877 0.37952243 0.29819499 0.         0.47892159 0.35856666\n",
      "  0.35961809 0.34094198 0.39304068 0.39741898 0.36071181 0.35955288\n",
      "  0.40013077 0.98398154 0.3512444  0.59814552 0.60410794 0.53376496]\n",
      " [0.66315336 0.56552093 0.44977432 0.47892159 0.         0.44168002\n",
      "  0.42832788 0.48257034 0.51605406 0.46707502 0.41968357 0.40672541\n",
      "  0.45239474 0.98190096 0.47614111 0.27010737 0.28439821 0.59647854]\n",
      " [0.53558605 0.47050321 0.37434621 0.35856666 0.44168002 0.\n",
      "  0.20813452 0.38710606 0.41429406 0.26609268 0.22970697 0.23758521\n",
      "  0.28106761 0.98396497 0.36914072 0.56068224 0.56953531 0.51064762]\n",
      " [0.54386474 0.47461226 0.37520289 0.35961809 0.42832788 0.20813452\n",
      "  0.         0.38818171 0.40739459 0.25363704 0.20511555 0.21347212\n",
      "  0.26165153 0.98433473 0.35973769 0.54246603 0.55128166 0.49808639]\n",
      " [0.50656996 0.44599635 0.3654799  0.34094198 0.48257034 0.38710606\n",
      "  0.38818171 0.         0.41113054 0.41542299 0.38715025 0.37967095\n",
      "  0.41416985 0.98497836 0.36554108 0.60053097 0.6098954  0.54291455]\n",
      " [0.54737285 0.48794083 0.41046981 0.39304068 0.51605406 0.41429406\n",
      "  0.40739459 0.41113054 0.         0.43252254 0.39899844 0.39534465\n",
      "  0.42592775 0.98604912 0.38657525 0.64057755 0.65083502 0.56350131]\n",
      " [0.57465025 0.51171746 0.41576248 0.39741898 0.46707502 0.26609268\n",
      "  0.25363704 0.41542299 0.43252254 0.         0.24182323 0.24178835\n",
      "  0.22763353 0.98440956 0.38376723 0.55947208 0.56887247 0.45586648]\n",
      " [0.55669498 0.48635536 0.3786022  0.36071181 0.41968357 0.22970697\n",
      "  0.20511555 0.38715025 0.39899844 0.24182323 0.         0.17228893\n",
      "  0.22611596 0.98388464 0.34479945 0.50967574 0.517059   0.44556168]\n",
      " [0.55866388 0.48655337 0.37997907 0.35955288 0.40672541 0.23758521\n",
      "  0.21347212 0.37967095 0.39534465 0.24178835 0.17228893 0.\n",
      "  0.21820237 0.9828532  0.33335439 0.48192084 0.48961944 0.4204812 ]\n",
      " [0.58350418 0.51885118 0.41833275 0.40013077 0.45239474 0.28106761\n",
      "  0.26165153 0.41416985 0.42592775 0.22763353 0.22611596 0.21820237\n",
      "  0.         0.98412125 0.3730914  0.52501142 0.53301486 0.41086372]\n",
      " [0.98389502 0.98412759 0.98365126 0.98398154 0.98190096 0.98396497\n",
      "  0.98433473 0.98497836 0.98604912 0.98440956 0.98388464 0.9828532\n",
      "  0.98412125 0.         0.98420293 0.97716545 0.976464   0.98511273]\n",
      " [0.53976956 0.47304991 0.39030933 0.3512444  0.47614111 0.36914072\n",
      "  0.35973769 0.36554108 0.38657525 0.38376723 0.34479945 0.33335439\n",
      "  0.3730914  0.98420293 0.         0.55943122 0.56779379 0.49708569]\n",
      " [0.76663495 0.68387589 0.59220776 0.59814552 0.27010737 0.56068224\n",
      "  0.54246603 0.60053097 0.64057755 0.55947208 0.50967574 0.48192084\n",
      "  0.52501142 0.97716545 0.55943122 0.         0.04721233 0.52517667]\n",
      " [0.76822611 0.68752588 0.60076341 0.60410794 0.28439821 0.56953531\n",
      "  0.55128166 0.6098954  0.65083502 0.56887247 0.517059   0.48961944\n",
      "  0.53301486 0.976464   0.56779379 0.04721233 0.         0.53489852]\n",
      " [0.69280236 0.65379374 0.55497266 0.53376496 0.59647854 0.51064762\n",
      "  0.49808639 0.54291455 0.56350131 0.45586648 0.44556168 0.4204812\n",
      "  0.41086372 0.98511273 0.49708569 0.52517667 0.53489852 0.        ]]\n"
     ]
    }
   ],
   "source": [
    "print(rdm)\n",
    "np.save(ROOT_PATH + 'RSA_on_ImageNet/rdm_imagenet_corr', rdm)"
   ]
  },
  {
   "cell_type": "code",
   "execution_count": 0,
   "metadata": {
    "colab": {},
    "colab_type": "code",
    "id": "4WCGneXtdFbi"
   },
   "outputs": [],
   "source": [
    "rdm = np.load(ROOT_PATH + 'RSA_on_ImageNet/rdm_imagenet_corr.npy')"
   ]
  },
  {
   "cell_type": "code",
   "execution_count": 0,
   "metadata": {
    "colab": {
     "base_uri": "https://localhost:8080/",
     "height": 269
    },
    "colab_type": "code",
    "id": "00Xzlq-JcxuU",
    "outputId": "25834c74-0267-4a9e-b12e-4b4fa6fe9a73"
   },
   "outputs": [
    {
     "data": {
      "image/png": "[encoded data removed]",
      "text/plain": [
       "<Figure size 432x288 with 2 Axes>"
      ]
     },
     "metadata": {
      "tags": []
     },
     "output_type": "display_data"
    }
   ],
   "source": [
    "ax = seaborn.heatmap(rdm, cmap='rainbow')"
   ]
  },
  {
   "cell_type": "markdown",
   "metadata": {
    "colab_type": "text",
    "id": "lfI-g-AEdr3r"
   },
   "source": [
    "### Use model RDM as precomputed distance measure in MDS"
   ]
  },
  {
   "cell_type": "code",
   "execution_count": 0,
   "metadata": {
    "colab": {},
    "colab_type": "code",
    "id": "DQSd5FeIdYD5"
   },
   "outputs": [],
   "source": [
    "mds = MDS(n_components=2, n_init=200, max_iter=2000, eps=0.0001, dissimilarity='precomputed')\n",
    "data_embedded = mds.fit_transform(rdm)"
   ]
  },
  {
   "cell_type": "code",
   "execution_count": 0,
   "metadata": {
    "colab": {
     "base_uri": "https://localhost:8080/",
     "height": 269
    },
    "colab_type": "code",
    "id": "e-HmnZRfdh5S",
    "outputId": "9e884c99-ba2d-46a5-d576-493e340dafca"
   },
   "outputs": [
    {
     "data": {
      "image/png": "[encoded data removed]",
      "text/plain": [
       "<Figure size 432x288 with 2 Axes>"
      ]
     },
     "metadata": {
      "tags": []
     },
     "output_type": "display_data"
    }
   ],
   "source": [
    "fig, ax = plt.subplots()\n",
    "sc = ax.scatter(data_embedded[:, 0], data_embedded[:, 1], c=acc_sorted, cmap='rainbow')\n",
    "plt.colorbar(sc)\n",
    "\n",
    "for i in range(n):\n",
    "  ax.annotate(files_pretty_names_sorted[i], (data_embedded[i, 0], data_embedded[i, 1]))\n",
    "  \n",
    "plt.show()"
   ]
  }
 ],
 "metadata": {
  "colab": {
   "name": "ImageNet: model RDM.ipynb",
   "provenance": [],
   "version": "0.3.2"
  },
  "kernelspec": {
   "display_name": "Python 3",
   "language": "python",
   "name": "python3"
  },
  "language_info": {
   "codemirror_mode": {
    "name": "ipython",
    "version": 3
   },
   "file_extension": ".py",
   "mimetype": "text/x-python",
   "name": "python",
   "nbconvert_exporter": "python",
   "pygments_lexer": "ipython3",
   "version": "3.7.4"
  }
 },
 "nbformat": 4,
 "nbformat_minor": 1
}
