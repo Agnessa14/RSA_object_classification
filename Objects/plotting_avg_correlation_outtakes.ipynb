{
 "cells": [
  {
   "cell_type": "markdown",
   "metadata": {},
   "source": [
    "# Setup"
   ]
  },
  {
   "cell_type": "code",
   "execution_count": null,
   "metadata": {},
   "outputs": [],
   "source": [
    "import os\n",
    "import numpy as np\n",
    "import matplotlib.pyplot as plt\n",
    "from scipy.stats import spearmanr\n",
    "import seaborn\n",
    "main_path = '/mnt/raid/ni/agnessa/RSA/'\n"
   ]
  },
  {
   "cell_type": "markdown",
   "metadata": {},
   "source": [
    "# Define the function to create filenames"
   ]
  },
  {
   "cell_type": "code",
   "execution_count": null,
   "metadata": {},
   "outputs": [],
   "source": [
    "def getFileName(n_samples,name,model_name,layer_name):\n",
    "    return name \\\n",
    "        + \"_{}_\".format(n_samples) \\\n",
    "        + \"_{}_\".format(model_name) \\\n",
    "        + \"_{}\".format(layer_name)  \\\n",
    "        + \".npy\"       "
   ]
  },
  {
   "cell_type": "markdown",
   "metadata": {},
   "source": [
    "# Get the lower triangular"
   ]
  },
  {
   "cell_type": "code",
   "execution_count": null,
   "metadata": {},
   "outputs": [],
   "source": [
    "def getUpperTriangular(rdm):\n",
    "    num_conditions = rdm.shape[0] #num samples\n",
    "    upp_tri = rdm[np.triu_indices(num_conditions,1)] \n",
    "    return upp_tri #take all above the main diagonal (excluding it), returns flattened version"
   ]
  },
  {
   "cell_type": "markdown",
   "metadata": {},
   "source": [
    "# Get average correlation for one model RDM - only upper triangular"
   ]
  },
  {
   "cell_type": "code",
   "execution_count": null,
   "metadata": {},
   "outputs": [],
   "source": [
    "def getAverageCorrelation(cross_task,model_name,layer_name,trained_on,tested_on,min_layer_idx,max_layer_idx): \n",
    "    if tested_on == 'ImageNet' or tested_on == '':\n",
    "        n_samples = 10000\n",
    "    elif tested_on == 'Places365':\n",
    "        n_samples = 10220\n",
    "        \n",
    "    model_rdm_filename = os.path.join(main_path,trained_on,tested_on,'Model_RDM', \\\n",
    "                                      getFileName(n_samples,'Model_RDM',model_name,layer_name))\n",
    "    if cross_task:\n",
    "        model_name = model_name+'_'+model_name\n",
    "        model_rdm_filename = os.path.join(main_path,trained_on,tested_on,'Model_RDM', \\\n",
    "                                      getFileName(n_samples,'Model_RDM_cross_task_',model_name,layer_name))\n",
    "    model_rdm = np.load(model_rdm_filename)\n",
    "    selected_model_rdm = model_rdm[min_layer_idx:max_layer_idx+1,min_layer_idx:max_layer_idx+1]#plus one makes sure that the last layer is included\n",
    "    upper_triangular = getUpperTriangular(selected_model_rdm)\n",
    "    avg_similarity_coefficient = 1-np.mean(upper_triangular)\n",
    "    return avg_similarity_coefficient"
   ]
  },
  {
   "cell_type": "code",
   "execution_count": null,
   "metadata": {},
   "outputs": [],
   "source": [
    "resnet50_images_early_layers = getAverageCorrelation(0,'resnet50','all','Objects','',0,6)\n",
    "resnet50_images_late_layers = getAverageCorrelation(0,'resnet50','all','Objects','',7,15)\n",
    "resnet50_images_scenes_early_layers = getAverageCorrelation(1,'resnet50','all','Objects','Places365',0,6)\n",
    "resnet50_images_scenes_late_layers = getAverageCorrelation(1,'resnet50','all','Objects','Places365',7,15)\n",
    "\n",
    "early_layers = [resnet50_images_early_layers,resnet50_images_scenes_early_layers]\n",
    "late_layers = [resnet50_images_late_layers,resnet50_images_scenes_late_layers]"
   ]
  },
  {
   "cell_type": "markdown",
   "metadata": {},
   "source": [
    "# Correlate the Model RDMs of two networks (same model, different training tasks) - layer by layer"
   ]
  },
  {
   "cell_type": "code",
   "execution_count": null,
   "metadata": {},
   "outputs": [],
   "source": [
    "def rsa_model_rdms_cross_task(model_name,trained_on_1,trained_on_2,tested_on,min_layer_idx,max_layer_idx):\n",
    "    layer_name = 'all'\n",
    "    \n",
    "    #define number of samples depending on the testing dataset\n",
    "    if tested_on == 'ImageNet' or tested_on == '':\n",
    "        n_samples = 10000\n",
    "    elif tested_on == 'Places365':\n",
    "        n_samples = 10220\n",
    "        \n",
    "    #load the models\n",
    "    model_rdm_1_filename = os.path.join(main_path,trained_on_1,'','Model_RDM', \\\n",
    "                                      getFileName(n_samples,'Model_RDM',model_name,layer_name))\n",
    "    model_name_2 = model_name+'_'+model_name\n",
    "    model_rdm_2_filename = os.path.join(main_path,trained_on_2,tested_on,'Model_RDM', \\\n",
    "                                      getFileName(n_samples,'Model_RDM_cross_task',model_name_2,layer_name))  \n",
    "    model_rdm_1 = np.load(model_rdm_1_filename)\n",
    "    model_rdm_2 = np.load(model_rdm_2_filename)\n",
    "    \n",
    "    #select only the desired layers\n",
    "    selected_model_rdm_1 = model_rdm_1[min_layer_idx:max_layer_idx+1,min_layer_idx:max_layer_idx+1]#plus one makes sure that the last layer is included\n",
    "    selected_model_rdm_2 = model_rdm_2[min_layer_idx:max_layer_idx+1,min_layer_idx:max_layer_idx+1]\n",
    "   \n",
    "    #get the correlation\n",
    "    num_layers = (max_layer_idx+1)-min_layer_idx  \n",
    "    correlation_models = np.ones((num_layers,1)) #num layers x num layers\n",
    "    correlation_models[:] = np.nan\n",
    "    for layer in np.arange(num_layers):\n",
    "        correlation = np.corrcoef(selected_model_rdm_1[layer,:],selected_model_rdm_2[layer,:])[0]  \n",
    "        correlation_models[layer] = correlation[1]\n",
    "    return selected_model_rdm_1,selected_model_rdm_2,correlation_models"
   ]
  },
  {
   "cell_type": "markdown",
   "metadata": {},
   "source": [
    "# Plot the correlations (plot bar)"
   ]
  },
  {
   "cell_type": "code",
   "execution_count": null,
   "metadata": {},
   "outputs": [],
   "source": [
    "#correlations\n",
    "within_task_rn = [r50e1,r50l1]\n",
    "across_tasks_rn = [r50e2,r50l2]\n",
    "within_task_an = [ane1,anl1]\n",
    "across_tasks_an = [ane2,anl2]\n",
    "\n",
    "f, ax = plt.subplots(figsize=(15,13))\n",
    "num_bars = 2\n",
    "ind = np.arange(num_bars) \n",
    "width = 0.35       \n",
    "\n",
    "#resnet-50\n",
    "w_rn = plt.bar(ind, within_task_rn, width, label='Within task', color='purple')\n",
    "a_rn = plt.bar(ind + width, across_tasks_rn, width, label='Across tasks', color='lightseagreen')\n",
    "\n",
    "#alexnet50\n",
    "ind2 = np.arange(num_bars)+2.5\n",
    "w_an = plt.bar(ind2, within_task_an, width, label='Within task', color='purple')\n",
    "a_an = plt.bar(ind2 + width, across_tasks_an, width, label='Across tasks', color='lightseagreen')\n",
    "\n",
    "#plotting parameters\n",
    "plt.title('Average correlations for early and late layers in the within-task and across-task RDMs',fontsize=30)\n",
    "plt.ylabel('Spearman\\'s coefficient',fontsize=25)\n",
    "ind3 = np.concatenate([ind,ind2])\n",
    "plt.xticks(ind3 + width / 2, ('Early layers', 'Late layers','Early layers', 'Late layers'),fontsize=25)\n",
    "plt.yticks(fontsize=25)\n",
    "plt.legend([w_rn,a_rn],['Within-task', 'Across-task'],loc='best', fontsize=25)\n",
    "\n",
    "#model labels\n",
    "def autolabel(bars, model_name_label, height): \n",
    "    \"\"\"Attach a text label above each quadruplet of bars (in the middle), displaying the model name.\"\"\"\n",
    "    for b in bars:\n",
    "        if bars.index(b)==0:\n",
    "            ax.annotate('{}'.format(model_name_label),\n",
    "                        xy=(b.get_x() + b.get_width()*2.5, height),\n",
    "                        xytext=(0, 3),  # 3 points vertical offset\n",
    "                        textcoords=\"offset points\",\n",
    "                        ha='center', va='bottom',\n",
    "                        fontsize=25,\n",
    "                        color='mediumblue')\n",
    "            xy=(b.get_x() + b.get_width()*2.5, height)\n",
    "\n",
    "\n",
    "    \n",
    "#get the max height of the bars to label the model name above it    \n",
    "all_corr = np.concatenate([within_task_rn,across_tasks_rn,within_task_an,across_tasks_an])\n",
    "max_height = max(all_corr)\n",
    "\n",
    "autolabel(w_rn,'ResNet-50',max_height)\n",
    "autolabel(w_an,'AlexNet',max_height)\n",
    "\n",
    "plt.show()\n",
    "\n",
    "#save"
   ]
  }
 ],
 "metadata": {
  "kernelspec": {
   "display_name": "Python 3",
   "language": "python",
   "name": "python3"
  },
  "language_info": {
   "codemirror_mode": {
    "name": "ipython",
    "version": 3
   },
   "file_extension": ".py",
   "mimetype": "text/x-python",
   "name": "python",
   "nbconvert_exporter": "python",
   "pygments_lexer": "ipython3",
   "version": "3.7.4"
  }
 },
 "nbformat": 4,
 "nbformat_minor": 2
}
