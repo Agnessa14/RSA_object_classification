{
 "cells": [
  {
   "cell_type": "markdown",
   "metadata": {},
   "source": [
    "# Set up the environment"
   ]
  },
  {
   "cell_type": "code",
   "execution_count": null,
   "metadata": {
    "colab": {},
    "colab_type": "code",
    "id": "p2yCI35Ec7YE"
   },
   "outputs": [],
   "source": [
    "import numpy as np\n",
    "import scipy.stats\n",
    "import matplotlib.pyplot as plt\n",
    "import seaborn\n",
    "import os\n",
    "import pickle\n",
    "import json\n",
    "from scipy.stats import spearmanr"
   ]
  },
  {
   "cell_type": "markdown",
   "metadata": {},
   "source": [
    "# Define a function to create a filename"
   ]
  },
  {
   "cell_type": "code",
   "execution_count": null,
   "metadata": {},
   "outputs": [],
   "source": [
    "def getFileName(name, n_samples, model_name, layer_name):\n",
    "    return name \\\n",
    "        + \"_{}_\".format(n_samples) \\\n",
    "        + \"_{}_\".format(model_name) \\\n",
    "        + \"_{}\".format(layer_name)  \\\n",
    "        + \".npy\"   "
   ]
  },
  {
   "cell_type": "markdown",
   "metadata": {},
   "source": [
    "# Define a function to create the upper triangular of Input RDMs"
   ]
  },
  {
   "cell_type": "code",
   "execution_count": null,
   "metadata": {},
   "outputs": [],
   "source": [
    "def get_upper_triangular(rdm):\n",
    "    num_conditions = rdm.shape[0] #num samples\n",
    "    return rdm[np.triu_indices(num_conditions,1)] #take all above the main diagonal (excluding it), returns flattened version"
   ]
  },
  {
   "cell_type": "markdown",
   "metadata": {},
   "source": [
    "# Load the model(s) and layers"
   ]
  },
  {
   "cell_type": "code",
   "execution_count": null,
   "metadata": {},
   "outputs": [],
   "source": [
    "multiple_models = 0 #comparing within a model or between models; 1 = between, 0 = within\n",
    "trained_on_1 = 'imagenet'\n",
    "trained_on_2 = 'imagenet'\n",
    "tested_on = 'imagenet'\n",
    "\n",
    "#load the np file containing the shape of the activations\n",
    "ROOT_PATH = '/mnt/raid/ni/agnessa/RSA/'\n",
    "layers_path = '/mnt/raid/ni/agnessa/RSA/'\n",
    "\n",
    "if trained_on_1 == 'imagenet':\n",
    "    if tested_on == 'imagenet':\n",
    "        NR_OF_SAMPLES = 10000\n",
    "        path_data_1 = 'Objects/ImageNet/'\n",
    "    elif tested_on == 'places':\n",
    "        NR_OF_SAMPLES = 10220\n",
    "        path_data_1 = 'Objects/Places365/'\n",
    "\n",
    "elif trained_on_1 == 'places':\n",
    "    if tested_on == 'imagenet':\n",
    "        NR_OF_SAMPLES = 10000\n",
    "        path_data_1 = 'Scenes/ImageNet/'\n",
    "    elif tested_on == 'places':\n",
    "        NR_OF_SAMPLES = 10220\n",
    "        path_data_1 = 'Scenes/Places365/'\n",
    "\n",
    "if trained_on_2 == 'imagenet':\n",
    "    path_data_2 = 'Objects/Places365/'\n",
    "    if tested_on == 'imagenet':\n",
    "        NR_OF_SAMPLES = 10000\n",
    "    elif tested_on == 'places':\n",
    "        NR_OF_SAMPLES = 10220\n",
    "\n",
    "elif trained_on_2 == 'places':\n",
    "    if tested_on == 'imagenet':\n",
    "        NR_OF_SAMPLES = 10000\n",
    "        path_data_2 = 'Scenes/ImageNet/'\n",
    "    elif tested_on == 'places':\n",
    "        NR_OF_SAMPLES = 10220\n",
    "        path_data_2 = 'Scenes/Places365/'\n",
    "    \n",
    "arch_1 = 'densenet161'\n",
    "\n",
    "#  use the selected layers file\n",
    "json_file_layers=os.path.join(layers_path + 'layer_names/',arch_1 + '_selected_layers.json')\n",
    "    \n",
    "with open(json_file_layers, \"r\") as fd:\n",
    "    selected_layers_1 = json.load(fd)\n",
    "\n",
    "#get the name of the model and of the layers\n",
    "num_layers_1 = len(selected_layers_1) \n",
    "print('Model: ', arch_1, ', Number of layers: ',num_layers_1)\n",
    "model_begin_1 = 0 #index of the first layer of the desired model\n",
    "model_name_1 = arch_1\n",
    "layer_names_1 = []\n",
    "\n",
    "if multiple_models == 1:\n",
    "    arch_2 = 'resnet50'\n",
    "    \n",
    "    #for resnets, use the selected layers file\n",
    "    if arch_2 == 'resnet34' or arch_2 == 'resnext':\n",
    "        json_file_layers=os.path.join(layers_path + 'layer_names/', 'resnets_selected_layers.json')\n",
    "    else:\n",
    "        json_file_layers=os.path.join(layers_path + 'layer_names/',arch_2 + '_selected_layers.json')\n",
    "    \n",
    "    with open(json_file_layers, \"r\") as fd:\n",
    "        selected_layers_2 = json.load(fd)\n",
    "        \n",
    "    #get the name of the model and of the layers\n",
    "    num_layers_2 = len(selected_layers_2) \n",
    "    print('Model: ', arch_2, ', Number of layers: ',num_layers_2)\n",
    "    model_begin_2 = 0\n",
    "    model_name_2 = arch_2\n",
    "    layer_names_2 = []\n",
    "\n",
    "#append the layers from the first model\n",
    "for i in range(num_layers_1):\n",
    "    layer_names_1.append(selected_layers_1[model_begin_1+i].get('layer'))   \n",
    "    \n",
    "if multiple_models == 1:\n",
    "    for j in range(num_layers_2):  #append the layers from the second model\n",
    "        layer_names_2.append(selected_layers_2[model_begin_2+j].get('layer'))\n",
    "else:\n",
    "    layer_names_2 = layer_names_1\n",
    "if multiple_models == 1:\n",
    "    print('Comparing', model_name_1, ', layers', layer_names_1, 'and', model_name_2, ', layers', layer_names_2)\n",
    "else:\n",
    "    print('Comparing model', model_name_1, ', layers', layer_names_1)\n"
   ]
  },
  {
   "cell_type": "markdown",
   "metadata": {},
   "source": [
    "# Create model RDMs by correlating between Input RDMs from different layers and models"
   ]
  },
  {
   "cell_type": "code",
   "execution_count": null,
   "metadata": {},
   "outputs": [],
   "source": [
    "size_rdm_1 = np.array(layer_names_1).shape[0]   \n",
    "size_rdm_2 = np.array(layer_names_2).shape[0]\n",
    "RSA_matrix = np.ones((size_rdm_1,size_rdm_2)) #num layers x num layers\n",
    "RSA_matrix[:] = np.nan\n",
    "\n",
    "if multiple_models == 1:\n",
    "    model_name = model_name_1 + '_' + model_name_2\n",
    "else:\n",
    "    model_name = model_name_2 = model_name_1  \n",
    "    layer_names_2 = layer_names_1\n",
    "    \n",
    "#1. get upper triangulars\n",
    "#2. calculate the correlation distance (1-Spearman's coefficient) between the upper triangulars\n",
    "#3. repeat for all pairs of layers (and models)\n",
    "\n",
    "for layer_i in layer_names_1:\n",
    "\n",
    "    ## load RDMs ##\n",
    "    RDM_PATH_i = os.path.join(ROOT_PATH + path_data_1 + 'Input_RDM/', \\\n",
    "                              getFileName('Input_RDM_', NR_OF_SAMPLES, model_name_1, layer_i))\n",
    "    Input_RDM_i = np.load(RDM_PATH_i)\n",
    "    print(RDM_PATH_i)\n",
    "    ## get upper triangulars, without the 0 diagonal\n",
    "    print('Getting the upper triangular of ->', layer_i)\n",
    "    ut_rdm_i = get_upper_triangular(Input_RDM_i)\n",
    "   \n",
    "    for layer_j in layer_names_2:\n",
    "        \n",
    "        RDM_PATH_j = os.path.join(ROOT_PATH + path_data_2 + 'Input_RDM/',\\\n",
    "                                  getFileName('Input_RDM_', NR_OF_SAMPLES, model_name_2, layer_j))                \n",
    "        Input_RDM_j = np.load(RDM_PATH_j)\n",
    "        print(RDM_PATH_j)\n",
    "        print('Getting the upper triangular of ->', layer_j)\n",
    "        ut_rdm_j = get_upper_triangular(Input_RDM_j)\n",
    "            \n",
    "        # Spearman correlation\n",
    "        print('Calculating the correlation distance between ->', layer_i, 'and', layer_j)\n",
    "        RSA_i_j = 1-spearmanr(ut_rdm_i,ut_rdm_j)[0]\n",
    "        print('Finished the correlation distance between ->', layer_i, 'and', layer_j)\n",
    "        print(RSA_i_j)\n",
    "        # Save into a matrix \n",
    "        print('Saving the correlation distance between ->', layer_i, 'and', layer_j)\n",
    "        RSA_matrix[np.where(np.array(layer_names_1)==layer_i)[0][0],\\\n",
    "                   np.where(np.array(layer_names_2)==layer_j)[0][0]] = RSA_i_j\n",
    "\n",
    "# save model RDM \n",
    "if multiple_models == 1:\n",
    "    path = os.path.join(ROOT_PATH + path_data_1 + 'Model_RDM/', getFileName('Model_RDM_cross_task_', NR_OF_SAMPLES, model_name, 'all'))\n",
    "else:\n",
    "    path = os.path.join(ROOT_PATH + path_data_1 + 'Model_RDM/', getFileName('Model_RDM_', NR_OF_SAMPLES, model_name, 'all'))\n",
    "\n",
    "np.save(path,RSA_matrix)\n",
    "\n",
    "        "
   ]
  },
  {
   "cell_type": "code",
   "execution_count": null,
   "metadata": {},
   "outputs": [],
   "source": []
  }
 ],
 "metadata": {
  "colab": {
   "name": "ImageNet: model RDM.ipynb",
   "provenance": [],
   "version": "0.3.2"
  },
  "kernelspec": {
   "display_name": "Python 3",
   "language": "python",
   "name": "python3"
  },
  "language_info": {
   "codemirror_mode": {
    "name": "ipython",
    "version": 3
   },
   "file_extension": ".py",
   "mimetype": "text/x-python",
   "name": "python",
   "nbconvert_exporter": "python",
   "pygments_lexer": "ipython3",
   "version": "3.7.4"
  }
 },
 "nbformat": 4,
 "nbformat_minor": 1
}
