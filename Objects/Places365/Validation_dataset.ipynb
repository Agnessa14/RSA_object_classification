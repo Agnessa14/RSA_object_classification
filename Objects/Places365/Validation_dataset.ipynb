{
 "cells": [
  {
   "cell_type": "markdown",
   "metadata": {},
   "source": [
    "# Convert text files to json files"
   ]
  },
  {
   "cell_type": "code",
   "execution_count": null,
   "metadata": {},
   "outputs": [],
   "source": [
    "import json\n",
    "import os\n",
    "import numpy as np\n",
    "import itertools\n",
    "import codecs\n",
    "\n",
    "places_60 = '/mnt/raid/ni/agnessa/RSA/Scenes/Places365/places365_60scenes.txt'\n",
    "places_minus60 = '/mnt/raid/ni/agnessa/RSA/Scenes/Places365/places365_minus60scenes.txt'\n",
    "\n",
    "# create one dictionary per run; comment the other one out\n",
    "# dictionary\n",
    "dict_places_60 = {} \n",
    "  \n",
    "# creating dictionary \n",
    "with open(places_60) as fh:   \n",
    "    for line in fh:   \n",
    "        # reads each line and removes the spaces\n",
    "        image, label = line.strip().split(None, 1) \n",
    "        dict_places_60[image] = label.strip() \n",
    "\n",
    "#  put into the JSON format \n",
    "out_file = open(\"/mnt/raid/ni/agnessa/RSA/Scenes/Places365/places365_60scenes.json\", \"w\") \n",
    "json.dump(dict_places_60, out_file, indent = 4, sort_keys = False) \n",
    "out_file.close() \n",
    "\n",
    "# # dictionary\n",
    "# dict_places_minus60 = {} \n",
    "  \n",
    "# # creating dictionary \n",
    "# with open(places_minus60) as fh:   \n",
    "#     for line in fh:   \n",
    "#         # reads each line and removes the spaces\n",
    "#         image, label = line.strip().split(None, 1) \n",
    "#         dict_places_minus60[image] = label.strip() \n",
    "\n",
    "# #  put into the JSON format \n",
    "# out_file = open(\"/mnt/raid/ni/agnessa/RSA/Scenes/Places365/places365_minus60scenes.json\", \"w\") \n",
    "# json.dump(dict_places_minus60, out_file, indent = 4, sort_keys = False) \n",
    "# out_file.close() "
   ]
  },
  {
   "cell_type": "markdown",
   "metadata": {},
   "source": [
    "# Randomly selecting 28 samples per category (or 18 for the 6 preselected categories)"
   ]
  },
  {
   "cell_type": "code",
   "execution_count": null,
   "metadata": {},
   "outputs": [],
   "source": [
    "# we only need 10220-60 = 10160 (for 6 categories, only need 10 more samples)\n",
    "places_minus60 = \"/mnt/raid/ni/agnessa/RSA/Scenes/Places365/places365_minus60scenes.json\"\n",
    "with open(places_minus60,'r') as fd:\n",
    "    dict_places_m60 = json.load(fd)\n",
    "    \n",
    "#append with the list from places_60\n",
    "places_60 = \"/mnt/raid/ni/agnessa/RSA/Scenes/Places365/places365_60scenes.json\"\n",
    "with open(places_60,'r') as fd:\n",
    "    dict_places_60 = json.load(fd)\n",
    "\n",
    "#create new dictionary of selected values    \n",
    "list_labels = [int(x) for x in list(dict_places_m60.values())]\n",
    "categories_eeg = [8,48,52,81,151,175]\n",
    "selected_images = []\n",
    "\n",
    "for category in list(set(sorted(list_labels))): #set to take unique values #range(0,364): #iterate over all values - could be rewritten better: sorted(list_labels)?\n",
    "    category_images = {key:value  for (key, value) in dict_places_m60.items() if int(value) == category}\n",
    "   \n",
    "    if category in categories_eeg:\n",
    "        selected_images.append(list(category_images.items())[0:18])\n",
    "        pre_picked = {key:value for (key,value) in dict_places_60.items() if int(value) == category}\n",
    "        selected_images.append(list(pre_picked.items())) \n",
    "    else:\n",
    "        selected_images.append(list(category_images.items())[0:28])  \n",
    "#     print(len(selected_images))\n",
    "print(sum(len(item) for item in selected_images))\n",
    "\n",
    "#turn into dict\n",
    "list_si = list(itertools.chain(*selected_images))\n",
    "dict_selected_images = dict(list_si)\n",
    "len(dict_selected_images)\n",
    "\n",
    "#sort by category\n",
    "sorted_d = {k: v for k, v in sorted(dict_selected_images.items(), key=lambda item: item[1])}\n",
    "\n",
    "#save to a json file\n",
    "path_name = \"/mnt/raid/ni/agnessa/RSA/Scenes/Places365/selected_scenes_places365.json\"\n",
    "json.dump(sorted_d, codecs.open(path_name, 'w', encoding='utf-8'), separators=(',', ':'), sort_keys=False, indent=4) "
   ]
  }
 ],
 "metadata": {
  "kernelspec": {
   "display_name": "Python 3",
   "language": "python",
   "name": "python3"
  },
  "language_info": {
   "codemirror_mode": {
    "name": "ipython",
    "version": 3
   },
   "file_extension": ".py",
   "mimetype": "text/x-python",
   "name": "python",
   "nbconvert_exporter": "python",
   "pygments_lexer": "ipython3",
   "version": "3.7.4"
  }
 },
 "nbformat": 4,
 "nbformat_minor": 2
}
