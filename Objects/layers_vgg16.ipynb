{
 "cells": [
  {
   "cell_type": "markdown",
   "metadata": {},
   "source": [
    "# Set up the environment"
   ]
  },
  {
   "cell_type": "code",
   "execution_count": null,
   "metadata": {},
   "outputs": [],
   "source": [
    "import codecs, json\n",
    "import numpy as np\n",
    "from torchvision.models import *\n",
    "import os\n",
    "os.environ['TORCH_HOME'] = '/mnt/raid/ni/agnessa/RSA/.cache/torch/'"
   ]
  },
  {
   "cell_type": "markdown",
   "metadata": {},
   "source": [
    "# Create a json file of all layer names "
   ]
  },
  {
   "cell_type": "code",
   "execution_count": null,
   "metadata": {},
   "outputs": [],
   "source": [
    "model_name = 'vgg16'\n",
    "model = eval( model_name+'(pretrained=True)') #maybe use the pytorch model pretrained on imagenet to get the layer names: easier\n",
    "vgg16 = []\n",
    "\n",
    "for layer_name, m in model.named_modules():   \n",
    "    model_dict = {'model': model_name,'layer': layer_name}\n",
    "    vgg16.append(model_dict)\n",
    "file_path = '/mnt/raid/ni/agnessa/RSA/layer_names/vgg16_all_layers.json'\n",
    "json.dump(vgg16, codecs.open(file_path, 'w', encoding='utf-8'), separators=(',', ':'), sort_keys=False, indent=4) ### this saves the array in .json format"
   ]
  },
  {
   "cell_type": "markdown",
   "metadata": {},
   "source": [
    "# Create a json file of layers of interest"
   ]
  },
  {
   "cell_type": "code",
   "execution_count": null,
   "metadata": {},
   "outputs": [],
   "source": [
    "#select every 2nd \"features\" layer and all classifier layers\n",
    "selected_layers = []\n",
    "\n",
    "for layer_name,m in model.named_modules():\n",
    "    split_layer_name = layer_name.split('.')\n",
    "    if len(split_layer_name)>1:\n",
    "        if not np.mod(int(split_layer_name[1]),2):\n",
    "            model_dict_selected = {'model': model_name,'layer': layer_name}\n",
    "            selected_layers.append(model_dict_selected)\n",
    "                        \n",
    "file_path = '/mnt/raid/ni/agnessa/RSA/layer_names/vgg16_selected_layers.json'\n",
    "json.dump(selected_layers, codecs.open(file_path, 'w', encoding='utf-8'), separators=(',', ':'), sort_keys=False, indent=4) ### this saves the array in .json format"
   ]
  }
 ],
 "metadata": {
  "kernelspec": {
   "display_name": "Python 3",
   "language": "python",
   "name": "python3"
  },
  "language_info": {
   "codemirror_mode": {
    "name": "ipython",
    "version": 3
   },
   "file_extension": ".py",
   "mimetype": "text/x-python",
   "name": "python",
   "nbconvert_exporter": "python",
   "pygments_lexer": "ipython3",
   "version": "3.7.4"
  }
 },
 "nbformat": 4,
 "nbformat_minor": 2
}
