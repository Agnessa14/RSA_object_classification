{
 "cells": [
  {
   "cell_type": "markdown",
   "metadata": {},
   "source": [
    "# Setup"
   ]
  },
  {
   "cell_type": "code",
   "execution_count": 1,
   "metadata": {},
   "outputs": [],
   "source": [
    "import os\n",
    "import numpy as np\n",
    "import matplotlib.pyplot as plt\n",
    "from scipy.stats import spearmanr\n",
    "import seaborn\n",
    "main_path = '/mnt/raid/ni/agnessa/RSA/'\n"
   ]
  },
  {
   "cell_type": "markdown",
   "metadata": {},
   "source": [
    "# Define the function to create filenames"
   ]
  },
  {
   "cell_type": "code",
   "execution_count": 2,
   "metadata": {},
   "outputs": [],
   "source": [
    "def getFileName(n_samples,name,model_name,layer_name):\n",
    "    return name \\\n",
    "        + \"_{}_\".format(n_samples) \\\n",
    "        + \"_{}_\".format(model_name) \\\n",
    "        + \"_{}\".format(layer_name)  \\\n",
    "        + \".npy\"       "
   ]
  },
  {
   "cell_type": "markdown",
   "metadata": {},
   "source": [
    "# Average correlation of a subset of layers for two networks (same model, different training tasks) - use the whole matrix (not just upper triangular)"
   ]
  },
  {
   "cell_type": "code",
   "execution_count": 3,
   "metadata": {},
   "outputs": [],
   "source": [
    "def avg_correlation_cross_task(model_name,trained_on_1,trained_on_2,tested_on,min_layer_idx,max_layer_idx):\n",
    "    layer_name = 'all'\n",
    "    \n",
    "    #define number of samples depending on the testing dataset\n",
    "    if tested_on == 'ImageNet' or tested_on == '':\n",
    "        n_samples = 10000\n",
    "    elif tested_on == 'Places365':\n",
    "        n_samples = 10220\n",
    "        \n",
    "    #load the models\n",
    "    model_rdm_1_filename = os.path.join(main_path,trained_on_1,'','Model_RDM', \\\n",
    "                                      getFileName(n_samples,'Model_RDM',model_name,layer_name))\n",
    "    model_name_2 = model_name+'_'+model_name\n",
    "    model_rdm_2_filename = os.path.join(main_path,trained_on_2,tested_on,'Model_RDM', \\\n",
    "                                      getFileName(n_samples,'Model_RDM_cross_task',model_name_2,layer_name))  \n",
    "    model_rdm_1 = np.load(model_rdm_1_filename)\n",
    "    model_rdm_2 = np.load(model_rdm_2_filename)\n",
    "    \n",
    "    #select only the desired layers\n",
    "    selected_model_rdm_1 = model_rdm_1[min_layer_idx:max_layer_idx+1,min_layer_idx:max_layer_idx+1]#plus one makes sure that the last layer is included\n",
    "    selected_model_rdm_2 = model_rdm_2[min_layer_idx:max_layer_idx+1,min_layer_idx:max_layer_idx+1]\n",
    "   \n",
    "    #get the correlation\n",
    "    avg_correlation_1 = 1-np.mean(selected_model_rdm_1)\n",
    "    avg_correlation_2 = 1-np.mean(selected_model_rdm_2)\n",
    "    return avg_correlation_1, avg_correlation_2"
   ]
  },
  {
   "cell_type": "code",
   "execution_count": 112,
   "metadata": {},
   "outputs": [],
   "source": []
  },
  {
   "cell_type": "markdown",
   "metadata": {},
   "source": [
    "# Plot the correlations (bar plot)"
   ]
  },
  {
   "cell_type": "code",
   "execution_count": 124,
   "metadata": {},
   "outputs": [],
   "source": [
    "def bar_plot_correlations(**kwargs):\n",
    "    \n",
    "    ## Model name labels ## \n",
    "\n",
    "    #model name labels\n",
    "    def autolabel(bars, model_name_label, height): \n",
    "        \"\"\"Attach a text label above each quadruplet of bars (in the middle), displaying the model name.\"\"\"\n",
    "        for b in bars:\n",
    "            if bars.index(b)==0:\n",
    "                ax.annotate('{}'.format(model_name_label),\n",
    "                            xy=(b.get_x() + b.get_width()*2.5, height),\n",
    "                            xytext=(0, 3),  # 3 points vertical offset\n",
    "                            textcoords=\"offset points\",\n",
    "                            ha='center', va='bottom',\n",
    "                            fontsize=25,\n",
    "                            color='mediumblue')\n",
    "                xy=(b.get_x() + b.get_width()*2.5, height)\n",
    "                \n",
    "    #get the max correlation for the y coord of model name labels\n",
    "    num_bars = 2 #1 for within task, 1 for across tasks\n",
    "    all_correlations = np.ones((len(kwargs),num_bars*2))\n",
    "    all_correlations[:] = np.nan\n",
    "    for index,k in enumerate(kwargs):\n",
    "        correlations = (kwargs.get(k)).get('correlations')\n",
    "        all_correlations[index,:] = correlations.flatten()      \n",
    "    max_height = np.max(all_correlations)              \n",
    "        \n",
    "    ## Bar plot ## \n",
    "    \n",
    "    #setup the figure\n",
    "    fig, ax = plt.subplots(figsize=(15,13))\n",
    "    ind = np.arange(num_bars) \n",
    "    width = 0.35       \n",
    "    x_all = np.ones((len(kwargs),num_bars))\n",
    "    x_all[:] = np.nan\n",
    "    \n",
    "    #loop over models to make the bar plots\n",
    "    for index,k in enumerate(kwargs):\n",
    "        correlations = (kwargs.get(k)).get('correlations')\n",
    "        x = np.arange(num_bars)+2.5*index\n",
    "        within_task = plt.bar(x, correlations[0,:], width, label='Within task', color='purple')\n",
    "        across_tasks = plt.bar(x + width, correlations[1,:], width, label='Across tasks', color='lightseagreen')\n",
    "        x_all[index,:] = x\n",
    "        autolabel(within_task,(kwargs.get(k)).get('model name'),max_height)\n",
    "\n",
    "    #plotting parameters\n",
    "    font_small = 25\n",
    "    font_title = 30\n",
    "    plt.title('Average correlations for early and late layers in the within-task and across-task RDMs',fontsize=font_title)\n",
    "    plt.xticks(x_all.flatten() + width / 2, ('Early layers', 'Late layers','Early layers', 'Late layers'),fontsize=font_small)\n",
    "    plt.yticks(fontsize=font_small)\n",
    "    plt.ylabel('Spearman\\'s coefficient',fontsize=font_small)\n",
    "    plt.legend([within_task,across_tasks],['Within-task', 'Across-task'],loc='best', fontsize=font_small) #can do it for just one of the models\n",
    "    \n",
    "    plt.show()\n",
    "    return fig"
   ]
  },
  {
   "cell_type": "code",
   "execution_count": null,
   "metadata": {},
   "outputs": [],
   "source": [
    "#choose the datasets\n",
    "trained_on_1 = 'Objects'\n",
    "model_name_1 = 'resnet50'\n",
    "trained_on_2 = 'Scenes'\n",
    "model_name_2 = 'alexnet'\n",
    "tested_on = 'ImageNet'\n",
    "\n",
    "#get the correlations\n",
    "mod1_within_early,mod1_across_early = avg_correlation_cross_task(model_name_1,trained_on_1,trained_on_2,tested_on,0,6)\n",
    "mod1_within_late,mod1_across_late = avg_correlation_cross_task(model_name_1,trained_on_1,trained_on_2,tested_on,7,15)\n",
    "mod2_within_early,mod2_across_early = avg_correlation_cross_task(model_name_2,trained_on_1,trained_on_2,tested_on,0,8)\n",
    "mod2_within_late,mod2_across_late = avg_correlation_cross_task(model_name_2,trained_on_1,trained_on_2,tested_on,9,20)\n",
    "\n",
    "#plot the correlations\n",
    "fig = bar_plot_correlations(corr_model_1={'model name': 'ResNet-50', 'correlations': np.array([[mod1_within_early,mod1_within_late], \n",
    "                                                                                         [mod1_across_early,mod1_across_late]])}, \n",
    "                      corr_model_2={'model name': 'AlexNet', 'correlations': np.array([[mod2_within_early,mod2_within_late], \n",
    "                                                                                       [mod2_across_early,mod2_across_late]])})\n",
    "\n",
    "#save the bar plot\n",
    "path_png = os.path.join(main_path + 'other_plots', \"{}_{}_{}_{}_{}_{}.png\".format(\n",
    "    'avg_corr_bar_plot',trained_on_1,trained_on_2,tested_on,model_name_1,model_name_2))\n",
    "fig.savefig(path_png)\n",
    "path_svg = os.path.join(main_path + 'other_plots', \"{}_{}_{}_{}_{}_{}.svg\".format(\n",
    "    'avg_corr_bar_plot',trained_on_1,trained_on_2,tested_on,model_name_1,model_name_2))\n",
    "fig.savefig(path_svg)\n"
   ]
  },
  {
   "cell_type": "code",
   "execution_count": 119,
   "metadata": {},
   "outputs": [
    {
     "data": {
      "text/plain": [
       "'_1_2_'"
      ]
     },
     "execution_count": 119,
     "metadata": {},
     "output_type": "execute_result"
    }
   ],
   "source": [
    "n = 1\n",
    "m = 2\n"
   ]
  },
  {
   "cell_type": "code",
   "execution_count": null,
   "metadata": {},
   "outputs": [],
   "source": []
  }
 ],
 "metadata": {
  "kernelspec": {
   "display_name": "Python 3",
   "language": "python",
   "name": "python3"
  },
  "language_info": {
   "codemirror_mode": {
    "name": "ipython",
    "version": 3
   },
   "file_extension": ".py",
   "mimetype": "text/x-python",
   "name": "python",
   "nbconvert_exporter": "python",
   "pygments_lexer": "ipython3",
   "version": "3.7.4"
  }
 },
 "nbformat": 4,
 "nbformat_minor": 2
}
