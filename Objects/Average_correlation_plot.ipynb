{
 "cells": [
  {
   "cell_type": "markdown",
   "metadata": {},
   "source": [
    "# Setup"
   ]
  },
  {
   "cell_type": "code",
   "execution_count": null,
   "metadata": {},
   "outputs": [],
   "source": [
    "import os\n",
    "import numpy as np\n",
    "import matplotlib.pyplot as plt\n",
    "from scipy.stats import spearmanr\n",
    "import seaborn\n",
    "main_path = '/mnt/raid/ni/agnessa/RSA/'\n"
   ]
  },
  {
   "cell_type": "markdown",
   "metadata": {},
   "source": [
    "# Define the function to create filenames"
   ]
  },
  {
   "cell_type": "code",
   "execution_count": null,
   "metadata": {},
   "outputs": [],
   "source": [
    "def getFileName(n_samples,name,model_name,layer_name):\n",
    "    return name \\\n",
    "        + \"_{}_\".format(n_samples) \\\n",
    "        + \"_{}_\".format(model_name) \\\n",
    "        + \"_{}\".format(layer_name)  \\\n",
    "        + \".npy\"       "
   ]
  },
  {
   "cell_type": "markdown",
   "metadata": {},
   "source": [
    "# Get the lower triangular"
   ]
  },
  {
   "cell_type": "code",
   "execution_count": null,
   "metadata": {},
   "outputs": [],
   "source": [
    "def getUpperTriangular(rdm):\n",
    "    num_conditions = rdm.shape[0] #num samples\n",
    "    upp_tri = rdm[np.triu_indices(num_conditions,1)] \n",
    "    return upp_tri #take all above the main diagonal (excluding it), returns flattened version"
   ]
  },
  {
   "cell_type": "markdown",
   "metadata": {},
   "source": [
    "# Get average correlation for one model RDM - only upper triangular"
   ]
  },
  {
   "cell_type": "code",
   "execution_count": null,
   "metadata": {},
   "outputs": [],
   "source": [
    "def getAverageCorrelation(cross_task,model_name,layer_name,trained_on,tested_on,min_layer_idx,max_layer_idx): \n",
    "    if tested_on == 'ImageNet' or tested_on == '':\n",
    "        n_samples = 10000\n",
    "    elif tested_on == 'Places365':\n",
    "        n_samples = 10220\n",
    "        \n",
    "    model_rdm_filename = os.path.join(main_path,trained_on,tested_on,'Model_RDM', \\\n",
    "                                      getFileName(n_samples,'Model_RDM',model_name,layer_name))\n",
    "    if cross_task:\n",
    "        model_name = model_name+'_'+model_name\n",
    "        model_rdm_filename = os.path.join(main_path,trained_on,tested_on,'Model_RDM', \\\n",
    "                                      getFileName(n_samples,'Model_RDM_cross_task_',model_name,layer_name))\n",
    "    model_rdm = np.load(model_rdm_filename)\n",
    "    selected_model_rdm = model_rdm[min_layer_idx:max_layer_idx+1,min_layer_idx:max_layer_idx+1]#plus one makes sure that the last layer is included\n",
    "    upper_triangular = getUpperTriangular(selected_model_rdm)\n",
    "    avg_similarity_coefficient = 1-np.mean(upper_triangular)\n",
    "    return avg_similarity_coefficient"
   ]
  },
  {
   "cell_type": "code",
   "execution_count": null,
   "metadata": {},
   "outputs": [],
   "source": [
    "resnet50_images_early_layers = getAverageCorrelation(0,'resnet50','all','Objects','',0,6)\n",
    "resnet50_images_late_layers = getAverageCorrelation(0,'resnet50','all','Objects','',7,15)\n",
    "resnet50_images_scenes_early_layers = getAverageCorrelation(1,'resnet50','all','Objects','Places365',0,6)\n",
    "resnet50_images_scenes_late_layers = getAverageCorrelation(1,'resnet50','all','Objects','Places365',7,15)\n",
    "\n",
    "early_layers = [resnet50_images_early_layers,resnet50_images_scenes_early_layers]\n",
    "late_layers = [resnet50_images_late_layers,resnet50_images_scenes_late_layers]"
   ]
  },
  {
   "cell_type": "markdown",
   "metadata": {},
   "source": [
    "# Correlate the Model RDMs of two networks (same model, different training tasks) - layer by layer"
   ]
  },
  {
   "cell_type": "code",
   "execution_count": null,
   "metadata": {},
   "outputs": [],
   "source": [
    "def rsa_model_rdms_cross_task(model_name,trained_on_1,trained_on_2,tested_on,min_layer_idx,max_layer_idx):\n",
    "    layer_name = 'all'\n",
    "    \n",
    "    #define number of samples depending on the testing dataset\n",
    "    if tested_on == 'ImageNet' or tested_on == '':\n",
    "        n_samples = 10000\n",
    "    elif tested_on == 'Places365':\n",
    "        n_samples = 10220\n",
    "        \n",
    "    #load the models\n",
    "    model_rdm_1_filename = os.path.join(main_path,trained_on_1,'','Model_RDM', \\\n",
    "                                      getFileName(n_samples,'Model_RDM',model_name,layer_name))\n",
    "    model_name_2 = model_name+'_'+model_name\n",
    "    model_rdm_2_filename = os.path.join(main_path,trained_on_2,tested_on,'Model_RDM', \\\n",
    "                                      getFileName(n_samples,'Model_RDM_cross_task',model_name_2,layer_name))  \n",
    "    model_rdm_1 = np.load(model_rdm_1_filename)\n",
    "    model_rdm_2 = np.load(model_rdm_2_filename)\n",
    "    \n",
    "    #select only the desired layers\n",
    "    selected_model_rdm_1 = model_rdm_1[min_layer_idx:max_layer_idx+1,min_layer_idx:max_layer_idx+1]#plus one makes sure that the last layer is included\n",
    "    selected_model_rdm_2 = model_rdm_2[min_layer_idx:max_layer_idx+1,min_layer_idx:max_layer_idx+1]\n",
    "   \n",
    "    #get the correlation\n",
    "    num_layers = (max_layer_idx+1)-min_layer_idx  \n",
    "    correlation_models = np.ones((num_layers,1)) #num layers x num layers\n",
    "    correlation_models[:] = np.nan\n",
    "    for layer in np.arange(num_layers):\n",
    "        correlation = np.corrcoef(selected_model_rdm_1[layer,:],selected_model_rdm_2[layer,:])[0]  \n",
    "        correlation_models[layer] = correlation[1]\n",
    "    return selected_model_rdm_1,selected_model_rdm_2,correlation_models"
   ]
  },
  {
   "cell_type": "markdown",
   "metadata": {},
   "source": [
    "# Average correlation of a subset of layers for two networks (same model, different training tasks) - use the whole matrix (not just upper triangular)"
   ]
  },
  {
   "cell_type": "code",
   "execution_count": null,
   "metadata": {},
   "outputs": [],
   "source": [
    "def avg_correlation_cross_task(model_name,trained_on_1,trained_on_2,tested_on,min_layer_idx,max_layer_idx):\n",
    "    layer_name = 'all'\n",
    "    \n",
    "    #define number of samples depending on the testing dataset\n",
    "    if tested_on == 'ImageNet' or tested_on == '':\n",
    "        n_samples = 10000\n",
    "    elif tested_on == 'Places365':\n",
    "        n_samples = 10220\n",
    "        \n",
    "    #load the models\n",
    "    model_rdm_1_filename = os.path.join(main_path,trained_on_1,'','Model_RDM', \\\n",
    "                                      getFileName(n_samples,'Model_RDM',model_name,layer_name))\n",
    "    model_name_2 = model_name+'_'+model_name\n",
    "    model_rdm_2_filename = os.path.join(main_path,trained_on_2,tested_on,'Model_RDM', \\\n",
    "                                      getFileName(n_samples,'Model_RDM_cross_task',model_name_2,layer_name))  \n",
    "    model_rdm_1 = np.load(model_rdm_1_filename)\n",
    "    model_rdm_2 = np.load(model_rdm_2_filename)\n",
    "    \n",
    "    #select only the desired layers\n",
    "    selected_model_rdm_1 = model_rdm_1[min_layer_idx:max_layer_idx+1,min_layer_idx:max_layer_idx+1]#plus one makes sure that the last layer is included\n",
    "    selected_model_rdm_2 = model_rdm_2[min_layer_idx:max_layer_idx+1,min_layer_idx:max_layer_idx+1]\n",
    "   \n",
    "    #get the correlation\n",
    "    avg_correlation_1 = 1-np.mean(selected_model_rdm_1)\n",
    "    avg_correlation_2 = 1-np.mean(selected_model_rdm_2)\n",
    "    return avg_correlation_1, avg_correlation_2"
   ]
  },
  {
   "cell_type": "code",
   "execution_count": null,
   "metadata": {},
   "outputs": [],
   "source": [
    "r50e1,r50e2 = (avg_correlation_cross_task('resnet50','Objects','Scenes','ImageNet',0,6))\n",
    "r50l1,r50l2 = (avg_correlation_cross_task('resnet50','Objects','Scenes','ImageNet',7,15))\n",
    "ane1,ane2 = (avg_correlation_cross_task('alexnet','Objects','Scenes','ImageNet',0,8))\n",
    "anl1,anl2 = (avg_correlation_cross_task('alexnet','Objects','Scenes','ImageNet',9,20))\n",
    "\n",
    "print(r50e1,r50e2)\n",
    "print(r50l1,r50l2)\n",
    "print(ane1,ane2)\n",
    "print(anl1,anl2)"
   ]
  },
  {
   "cell_type": "code",
   "execution_count": null,
   "metadata": {},
   "outputs": [],
   "source": [
    "r50e1,r50e2,corr_early_r50 = (rsa_model_rdms_cross_task('resnet50','Objects','Scenes','ImageNet',0,6))\n",
    "r50l1,r50l2,corr_late_r50 = (rsa_model_rdms_cross_task('resnet50','Objects','Scenes','ImageNet',7,15))\n",
    "ane1,ane2,corr_early_alexnet = (rsa_model_rdms_cross_task('alexnet','Objects','Scenes','ImageNet',0,8))\n",
    "anl1,anl2,corr_late_alexnet = (rsa_model_rdms_cross_task('alexnet','Objects','Scenes','ImageNet',9,20))\n",
    "\n",
    "print(1-np.mean(r50e1),1-np.mean(r50e2))\n",
    "print(1-np.mean(r50l1),1-np.mean(r50l2))\n",
    "print(1-np.mean(ane1),1-np.mean(ane2))\n",
    "print(1-np.mean(anl1),1-np.mean(anl2))"
   ]
  },
  {
   "cell_type": "code",
   "execution_count": null,
   "metadata": {},
   "outputs": [],
   "source": [
    "plot_model = rdm1\n",
    "fig = plt.figure(figsize=(17,13)) #change depending on the size of the model \n",
    "\n",
    "ax = seaborn.heatmap(plot_model, cmap='rainbow', vmin=0.0, vmax=1.0)\n",
    "plt.xticks(rotation=90) \n",
    "plt.yticks(rotation=0)\n",
    "plt.show()\n",
    "\n",
    "plot_model = rdm2\n",
    "fig = plt.figure(figsize=(17,13)) #change depending on the size of the model \n",
    "\n",
    "ax = seaborn.heatmap(plot_model, cmap='rainbow', vmin=0.0, vmax=1.0)\n",
    "plt.xticks(rotation=90) \n",
    "plt.yticks(rotation=0)\n",
    "plt.show()"
   ]
  },
  {
   "cell_type": "markdown",
   "metadata": {},
   "source": [
    "# Plot the correlations (bar plot)"
   ]
  },
  {
   "cell_type": "code",
   "execution_count": null,
   "metadata": {},
   "outputs": [],
   "source": [
    "early_layers = [corr_early_r50,corr_early_alexnet]\n",
    "late_layers = [corr_late_r50,corr_late_alexnet]\n",
    "labels = ['ResNet-50','AlexNet']\n",
    "bar_locations = np.arange(len(labels))  # the label locations\n",
    "width = 3\n",
    "\n",
    "fig, ax = plt.subplots()\n",
    "rects1 = ax.bar(bar_locations - width/2, early_layers, width, label='Early layers')\n",
    "rects2 = ax.bar(bar_locations + width/2, late_layers, width, label='Late layers')\n",
    "\n",
    "# Add some text for labels, title and custom x-axis tick labels, etc.\n",
    "ax.set_ylabel('Spearman''s correlation')\n",
    "ax.set_title('Similarity within early layers and within late layers for different models')\n",
    "ax.set_xticks(bar_locations)\n",
    "ax.set_xticklabels(labels)\n",
    "ax.legend()\n"
   ]
  },
  {
   "cell_type": "code",
   "execution_count": null,
   "metadata": {},
   "outputs": [],
   "source": [
    "# width = 0.2\n",
    "# num_bars = 2\n",
    "# x_coords = np.arange(0,width*2,0.1)\n",
    "# # width_bars/num_bars\n",
    "# plt.bar(x_coords,[avg_corr_early_layers,avg_corr_late_layers],width)\n",
    "# plt.xticks(x_coords,['early layers','late layers'])\n"
   ]
  },
  {
   "cell_type": "code",
   "execution_count": null,
   "metadata": {},
   "outputs": [],
   "source": [
    "\n",
    "print(late_layers)"
   ]
  },
  {
   "cell_type": "code",
   "execution_count": null,
   "metadata": {},
   "outputs": [],
   "source": []
  },
  {
   "cell_type": "code",
   "execution_count": null,
   "metadata": {},
   "outputs": [],
   "source": []
  }
 ],
 "metadata": {
  "kernelspec": {
   "display_name": "Python 3",
   "language": "python",
   "name": "python3"
  },
  "language_info": {
   "codemirror_mode": {
    "name": "ipython",
    "version": 3
   },
   "file_extension": ".py",
   "mimetype": "text/x-python",
   "name": "python",
   "nbconvert_exporter": "python",
   "pygments_lexer": "ipython3",
   "version": "3.7.4"
  }
 },
 "nbformat": 4,
 "nbformat_minor": 2
}
