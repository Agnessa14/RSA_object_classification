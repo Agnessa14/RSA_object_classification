{
 "cells": [
  {
   "cell_type": "markdown",
   "metadata": {},
   "source": [
    "# Set up the environment"
   ]
  },
  {
   "cell_type": "code",
   "execution_count": null,
   "metadata": {},
   "outputs": [],
   "source": [
    "import codecs, json\n",
    "import numpy as np\n",
    "import torchvision.models as tmodels\n",
    "import os\n",
    "import torch\n",
    "\n",
    "os.environ['TORCH_HOME'] = '/mnt/raid/ni/agnessa/RSA/.cache/torch/'"
   ]
  },
  {
   "cell_type": "markdown",
   "metadata": {},
   "source": [
    "# Load the model"
   ]
  },
  {
   "cell_type": "code",
   "execution_count": null,
   "metadata": {},
   "outputs": [],
   "source": [
    "#model name and path\n",
    "model_name = 'googlenet'\n",
    "model_file = '%s_places365.pth' % model_name\n",
    "path_model = os.path.join('/mnt/raid/ni/agnessa/RSA/.cache/torch/checkpoints',model_file)\n",
    "\n",
    "#load architecture\n",
    "model = tmodels.__dict__[model_name](num_classes=365) \n",
    "\n",
    "#load the weights    \n",
    "if not os.access(path_model, os.W_OK): \n",
    "    weight_url = 'http://places2.csail.mit.edu/models_places365/' + model_file\n",
    "    os.system('wget ' + weight_url)\n",
    "    torch.save(model.state_dict(), model_file)\n",
    "model.load_state_dict(torch.load(path_model),strict=False) #strict=False because it will throw an error otherwise\n",
    "model.eval()"
   ]
  },
  {
   "cell_type": "markdown",
   "metadata": {},
   "source": [
    "# Create a json file of all layer names "
   ]
  },
  {
   "cell_type": "code",
   "execution_count": null,
   "metadata": {},
   "outputs": [],
   "source": [
    "model_name = 'googlenet'\n",
    "googlenet_scenes = []\n",
    "\n",
    "for layer_name, m in model.named_modules():   \n",
    "    model_dict = {'model': model_name,'layer': layer_name}\n",
    "    googlenet_scenes.append(model_dict)\n",
    "file_path = '/mnt/raid/ni/agnessa/RSA/layer_names/googlenet_scenes_all_layers.json'\n",
    "json.dump(googlenet_scenes, codecs.open(file_path, 'w', encoding='utf-8'), separators=(',', ':'), sort_keys=False, indent=4) ### this saves the array in .json format"
   ]
  }
 ],
 "metadata": {
  "kernelspec": {
   "display_name": "Python 3",
   "language": "python",
   "name": "python3"
  },
  "language_info": {
   "codemirror_mode": {
    "name": "ipython",
    "version": 3
   },
   "file_extension": ".py",
   "mimetype": "text/x-python",
   "name": "python",
   "nbconvert_exporter": "python",
   "pygments_lexer": "ipython3",
   "version": "3.7.4"
  }
 },
 "nbformat": 4,
 "nbformat_minor": 2
}
