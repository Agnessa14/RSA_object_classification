{
 "cells": [
  {
   "cell_type": "markdown",
   "metadata": {},
   "source": [
    "# Set up the environment"
   ]
  },
  {
   "cell_type": "code",
   "execution_count": 2,
   "metadata": {},
   "outputs": [],
   "source": [
    "import codecs, json\n",
    "import numpy as np\n",
    "from torchvision.models import *\n",
    "import os\n",
    "os.environ['TORCH_HOME'] = '/mnt/raid/ni/agnessa/RSA/.cache/torch/'"
   ]
  },
  {
   "cell_type": "markdown",
   "metadata": {},
   "source": [
    "# Create a json file of all layer names "
   ]
  },
  {
   "cell_type": "code",
   "execution_count": 3,
   "metadata": {},
   "outputs": [],
   "source": [
    "model_name = 'densenet161'\n",
    "model = eval( model_name+'(pretrained=True)')\n",
    "densenet161 = []\n",
    "\n",
    "for layer_name, m in model.named_modules():   \n",
    "    model_dict = {'model': model_name,'layer': layer_name}\n",
    "    densenet161.append(model_dict)\n",
    "file_path = '/mnt/raid/ni/agnessa/RSA/layer_names/densenet161_all_layers.json'\n",
    "json.dump(densenet161, codecs.open(file_path, 'w', encoding='utf-8'), separators=(',', ':'), sort_keys=False, indent=4) ### this saves the array in .json format"
   ]
  },
  {
   "cell_type": "markdown",
   "metadata": {},
   "source": [
    "# Create a json file of layers of interest"
   ]
  },
  {
   "cell_type": "code",
   "execution_count": 6,
   "metadata": {},
   "outputs": [
    {
     "name": "stdout",
     "output_type": "stream",
     "text": [
      "['features', 'denseblock1', 'denselayer1']\n",
      "['features', 'denseblock1', 'denselayer2']\n",
      "['features', 'denseblock1', 'denselayer3']\n",
      "['features', 'denseblock1', 'denselayer4']\n",
      "['features', 'denseblock2', 'denselayer1']\n",
      "['features', 'denseblock2', 'denselayer2']\n",
      "['features', 'denseblock2', 'denselayer3']\n",
      "['features', 'denseblock2', 'denselayer4']\n",
      "['features', 'denseblock3', 'denselayer1']\n",
      "['features', 'denseblock3', 'denselayer2']\n",
      "['features', 'denseblock3', 'denselayer3']\n",
      "['features', 'denseblock3', 'denselayer4']\n",
      "['features', 'denseblock4', 'denselayer1']\n",
      "['features', 'denseblock4', 'denselayer2']\n",
      "['features', 'denseblock4', 'denselayer3']\n",
      "['features', 'denseblock4', 'denselayer4']\n"
     ]
    }
   ],
   "source": [
    "#select one layer per \"denselayer\" - should be around 54\n",
    "selected_layers = []\n",
    "i = 1\n",
    "j = 1\n",
    "\n",
    "for layer_name,m in model.named_modules():\n",
    "    split_layer_name = layer_name.split('.')\n",
    "    if len(split_layer_name) >= 3:\n",
    "        if str(j) in split_layer_name[1]: #\"denseblock\"\n",
    "            if str(i) in split_layer_name[2]: #\"denselayer\" \n",
    "                print(split_layer_name)\n",
    "                model_dict_selected = {'model': model_name,'layer': layer_name}\n",
    "                selected_layers.append(model_dict_selected)\n",
    "                i = i+1\n",
    "                if i == 5:\n",
    "                    i = 1\n",
    "                    j = j+1\n",
    "                        \n",
    "file_path = '/mnt/raid/ni/agnessa/RSA/layer_names/densenet161_selected_layers.json'\n",
    "json.dump(selected_layers, codecs.open(file_path, 'w', encoding='utf-8'), separators=(',', ':'), sort_keys=False, indent=4) ### this saves the array in .json format"
   ]
  },
  {
   "cell_type": "code",
   "execution_count": null,
   "metadata": {},
   "outputs": [],
   "source": []
  }
 ],
 "metadata": {
  "kernelspec": {
   "display_name": "Python 3",
   "language": "python",
   "name": "python3"
  },
  "language_info": {
   "codemirror_mode": {
    "name": "ipython",
    "version": 3
   },
   "file_extension": ".py",
   "mimetype": "text/x-python",
   "name": "python",
   "nbconvert_exporter": "python",
   "pygments_lexer": "ipython3",
   "version": "3.7.4"
  }
 },
 "nbformat": 4,
 "nbformat_minor": 2
}
