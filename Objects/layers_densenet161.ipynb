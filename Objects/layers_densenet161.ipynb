{
 "cells": [
  {
   "cell_type": "markdown",
   "metadata": {},
   "source": [
    "# Set up the environment"
   ]
  },
  {
   "cell_type": "code",
   "execution_count": null,
   "metadata": {},
   "outputs": [],
   "source": [
    "import codecs, json\n",
    "import numpy as np\n",
    "from torchvision.models import *\n",
    "import os\n",
    "os.environ['TORCH_HOME'] = '/mnt/raid/ni/agnessa/RSA/.cache/torch/'\n"
   ]
  },
  {
   "cell_type": "markdown",
   "metadata": {},
   "source": [
    "# Pick the models of interest"
   ]
  },
  {
   "cell_type": "code",
   "execution_count": null,
   "metadata": {},
   "outputs": [],
   "source": [
    "model_name = 'densenet161'\n",
    "model = eval( model_name+'(pretrained=True)')\n",
    "for layer,m in model.named_modules():\n",
    "    print(layer)"
   ]
  },
  {
   "cell_type": "code",
   "execution_count": null,
   "metadata": {},
   "outputs": [],
   "source": [
    "model_names = np.array(['resnet34','resnet50','resnext101_32x8d','googlenet', 'alexnet','vgg16_bn', 'vgg19_bn'])\n",
    "\n",
    "models = np.array([resnet34(pretrained=True),resnet50(pretrained=True),resnext101_32x8d(pretrained=True),\n",
    "                   googlenet(pretrained=True), alexnet(pretrained=True),vgg16_bn(pretrained=True), vgg19_bn(pretrained=True)])\n"
   ]
  },
  {
   "cell_type": "markdown",
   "metadata": {},
   "source": [
    "# Create a json file of all layer names for all  models "
   ]
  },
  {
   "cell_type": "code",
   "execution_count": null,
   "metadata": {},
   "outputs": [],
   "source": [
    "all_models = []\n",
    "for model, model_name in zip(models, model_names):\n",
    "    for layer_name, m in model.named_modules():   \n",
    "        model_dict = {'model': model_name,'layer': layer_name}\n",
    "        all_models.append(model_dict)\n",
    "file_path = '/mnt/raid/ni/agnessa/RSA/scsne_analysis_all_models_all_layers.json'\n",
    "json.dump(all_models, codecs.open(file_path, 'w', encoding='utf-8'), separators=(',', ':'), sort_keys=False, indent=4) ### this saves the array in .json format"
   ]
  },
  {
   "cell_type": "markdown",
   "metadata": {},
   "source": [
    "# Create a json file of layers of interest"
   ]
  },
  {
   "cell_type": "code",
   "execution_count": null,
   "metadata": {},
   "outputs": [],
   "source": [
    "#for all ResNets: select the layers: only 1.0, 1.2, 1.3...4.2 -> the ones at the beginning of a building block\n",
    "selected_layers = []\n",
    "for model,model_name in zip(models, model_names):\n",
    "    if 'res' in model_name:\n",
    "        print(model_name)\n",
    "        for layer_name,m in model.named_modules():\n",
    "            dots = 0\n",
    "            for char in layer_name:              \n",
    "                if char == '.':\n",
    "                    dots = dots+1\n",
    "            if dots == 1:     \n",
    "                print(layer_name)\n",
    "                model_dict_selected = {'model': model_name,'layer': layer_name}\n",
    "                selected_layers.append(model_dict_selected)\n",
    "print(selected_layers)\n",
    "file_path = '/mnt/raid/ni/agnessa/RSA/resnets_selected_layers.json'\n",
    "json.dump(selected_layers, codecs.open(file_path, 'w', encoding='utf-8'), separators=(',', ':'), sort_keys=False, indent=4) ### this saves the array in .json format"
   ]
  },
  {
   "cell_type": "code",
   "execution_count": null,
   "metadata": {},
   "outputs": [],
   "source": []
  }
 ],
 "metadata": {
  "kernelspec": {
   "display_name": "Python 3",
   "language": "python",
   "name": "python3"
  },
  "language_info": {
   "codemirror_mode": {
    "name": "ipython",
    "version": 3
   },
   "file_extension": ".py",
   "mimetype": "text/x-python",
   "name": "python",
   "nbconvert_exporter": "python",
   "pygments_lexer": "ipython3",
   "version": "3.7.4"
  }
 },
 "nbformat": 4,
 "nbformat_minor": 2
}
