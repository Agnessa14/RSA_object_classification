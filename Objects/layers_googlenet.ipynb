{
 "cells": [
  {
   "cell_type": "markdown",
   "metadata": {},
   "source": [
    "# Set up the environment"
   ]
  },
  {
   "cell_type": "code",
   "execution_count": null,
   "metadata": {},
   "outputs": [],
   "source": [
    "import codecs, json\n",
    "import numpy as np\n",
    "import torch\n",
    "import os\n",
    "os.environ['TORCH_HOME'] = '/mnt/raid/ni/agnessa/RSA/.cache/torch/'"
   ]
  },
  {
   "cell_type": "code",
   "execution_count": null,
   "metadata": {},
   "outputs": [],
   "source": [
    "#somehow this is the only thing that works\n",
    "model = torch.hub.load('pytorch/vision:v0.6.0', 'googlenet', pretrained=True)\n",
    "model.eval()"
   ]
  },
  {
   "cell_type": "markdown",
   "metadata": {},
   "source": [
    "# Create a json file of all layer names "
   ]
  },
  {
   "cell_type": "code",
   "execution_count": null,
   "metadata": {},
   "outputs": [],
   "source": [
    "# model_name = 'googlenet'\n",
    "# googlenet = []\n",
    "\n",
    "# for layer_name, m in model.named_modules():   \n",
    "#     model_dict = {'model': model_name,'layer': layer_name}\n",
    "#     googlenet.append(model_dict)\n",
    "# file_path = '/mnt/raid/ni/agnessa/RSA/layer_names/googlenet_all_layers.json'\n",
    "# json.dump(googlenet, codecs.open(file_path, 'w', encoding='utf-8'), separators=(',', ':'), sort_keys=False, indent=4) ### this saves the array in .json format"
   ]
  },
  {
   "cell_type": "markdown",
   "metadata": {},
   "source": [
    "# Create a json file of layers of interest"
   ]
  },
  {
   "cell_type": "code",
   "execution_count": null,
   "metadata": {},
   "outputs": [],
   "source": [
    "#select one layer per \"denselayer\" - should be around 54\n",
    "#select all like this \"inception3a.branch4.0\" when 1 -> \"inception3a.branch1\"\n",
    "model_name = 'googlenet'\n",
    "selected_layers = []\n",
    "\n",
    "for layer_name,m in model.named_modules():\n",
    "    if len(layer_name)==5:\n",
    "        if layer_name[0:4] == 'conv':\n",
    "            print(layer_name)\n",
    "            model_dict_selected = {'model': model_name,'layer': layer_name}\n",
    "            selected_layers.append(model_dict_selected)\n",
    "    if len(layer_name)==11:  \n",
    "        if layer_name[0:9] == 'inception':\n",
    "            print(layer_name)\n",
    "            model_dict_selected = {'model': model_name,'layer': layer_name}\n",
    "            selected_layers.append(model_dict_selected)\n",
    "file_path = '/mnt/raid/ni/agnessa/RSA/layer_names/googlenet_selected_layers.json'\n",
    "json.dump(selected_layers, codecs.open(file_path, 'w', encoding='utf-8'), separators=(',', ':'), sort_keys=False, indent=4) ### this saves the array in .json format"
   ]
  },
  {
   "cell_type": "code",
   "execution_count": null,
   "metadata": {},
   "outputs": [],
   "source": []
  }
 ],
 "metadata": {
  "kernelspec": {
   "display_name": "Python 3",
   "language": "python",
   "name": "python3"
  },
  "language_info": {
   "codemirror_mode": {
    "name": "ipython",
    "version": 3
   },
   "file_extension": ".py",
   "mimetype": "text/x-python",
   "name": "python",
   "nbconvert_exporter": "python",
   "pygments_lexer": "ipython3",
   "version": "3.7.4"
  }
 },
 "nbformat": 4,
 "nbformat_minor": 2
}
