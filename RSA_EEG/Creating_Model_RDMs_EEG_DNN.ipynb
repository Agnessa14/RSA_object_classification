{
 "cells": [
  {
   "cell_type": "markdown",
   "metadata": {},
   "source": [
    "# Set up the environment"
   ]
  },
  {
   "cell_type": "code",
   "execution_count": null,
   "metadata": {
    "colab": {},
    "colab_type": "code",
    "id": "p2yCI35Ec7YE"
   },
   "outputs": [],
   "source": [
    "import numpy as np\n",
    "import scipy.stats\n",
    "import matplotlib.pyplot as plt\n",
    "import seaborn\n",
    "import os\n",
    "import pickle\n",
    "import json\n",
    "import scipy.io as sio\n",
    "from scipy.stats import spearmanr"
   ]
  },
  {
   "cell_type": "markdown",
   "metadata": {},
   "source": [
    "# Define functions to create a filename"
   ]
  },
  {
   "cell_type": "code",
   "execution_count": null,
   "metadata": {},
   "outputs": [],
   "source": [
    "def getFileName(name, n_samples, model_name, layer_name):\n",
    "    return name \\\n",
    "        + \"_{}_\".format(n_samples) \\\n",
    "        + \"_{}_\".format(model_name) \\\n",
    "        + \"_{}\".format(layer_name)  \\\n",
    "        + \".npy\"   "
   ]
  },
  {
   "cell_type": "code",
   "execution_count": null,
   "metadata": {},
   "outputs": [],
   "source": [
    "def getFileNameSave(name, model_name, trained_on, tested_on):\n",
    "    return name \\\n",
    "        + \"_{}_\".format(name) \\\n",
    "        + \"_{}_\".format(model_name) \\\n",
    "        + \"_{}_\".format(trained_on) \\\n",
    "        + \"_{}_\".format(tested_on) \\  \n",
    "        + \".npy\"   "
   ]
  },
  {
   "cell_type": "markdown",
   "metadata": {},
   "source": [
    "# Select the 60 scenes that were used for EEG"
   ]
  },
  {
   "cell_type": "code",
   "execution_count": null,
   "metadata": {},
   "outputs": [],
   "source": [
    "def select_eeg_scenes():\n",
    "    \n",
    "    ''' Find indices of the 60 EEG scenes as fed to the DNN during testing,\n",
    "        in order to find them in the DNN Input RDMs'''\n",
    "    \n",
    "    with open('selected_scenes_in_order.json') as json_file:\n",
    "        scenes_all = json.load(json_file)\n",
    "    with open('places365_60scenes.json') as json_file:\n",
    "        scenes_60 = json.load(json_file)\n",
    "\n",
    "    scenes_all_ids  = np.zeros([len(scenes_all),1])\n",
    "    scenes_all_ids[:] = np.nan\n",
    "\n",
    "    for idx,scene in enumerate(scenes_all):\n",
    "        scenes_all_ids[idx] = int(scene[14:22]) \n",
    "\n",
    "    index_60_scenes = np.zeros([60,1])\n",
    "    index_60_scenes[:] = np.nan\n",
    "\n",
    "    for idx,scene in enumerate(scenes_60):\n",
    "        id_scene = int(scene[14:22])\n",
    "        index_60_scenes[idx] = np.where(scenes_all_ids == id_scene)[0]\n",
    "        \n",
    "    return index_60_scenes\n"
   ]
  },
  {
   "cell_type": "markdown",
   "metadata": {},
   "source": [
    "# Define a function to create the upper triangular of Input RDMs"
   ]
  },
  {
   "cell_type": "code",
   "execution_count": null,
   "metadata": {},
   "outputs": [],
   "source": [
    "def get_upper_triangular(rdm):\n",
    "    num_conditions = rdm.shape[0] #num samples\n",
    "    return rdm[np.triu_indices(num_conditions,1)] #take all above the main diagonal (excluding it), returns flattened version"
   ]
  },
  {
   "cell_type": "markdown",
   "metadata": {},
   "source": [
    "# Specify the model and layers for RSA"
   ]
  },
  {
   "cell_type": "code",
   "execution_count": null,
   "metadata": {},
   "outputs": [],
   "source": [
    "def define_layer_and_model_names(model_name,trained_on,tested_on,layers_path):\n",
    "    \n",
    "    ''' Get the layer names of the model of interest\n",
    "        in order to load the appropriate Input RDMs. '''\n",
    "    \n",
    "    if trained_on == 'imagenet':\n",
    "        if tested_on == 'imagenet':\n",
    "            NR_OF_SAMPLES = 10000\n",
    "            path_data = 'Objects/'\n",
    "        elif tested_on == 'places':\n",
    "            NR_OF_SAMPLES = 10220\n",
    "            path_data = 'Objects/Places365/'\n",
    "\n",
    "    elif trained_on == 'places':\n",
    "        if tested_on == 'imagenet':\n",
    "            NR_OF_SAMPLES = 10000\n",
    "            path_data = 'Scenes/ImageNet/'\n",
    "        elif tested_on == 'places':\n",
    "            NR_OF_SAMPLES = 10220\n",
    "            path_data = 'Scenes/Places365/'\n",
    "            \n",
    "    #select the relevant layers\n",
    "    json_file_layers=os.path.join(layers_path, model_name + '_selected_layers.json') \n",
    "    with open(json_file_layers, \"r\") as fd:\n",
    "        selected_layers = json.load(fd)\n",
    "\n",
    "    #get the name of the layers\n",
    "    num_layers = len(selected_layers) \n",
    "    print('Model: ', model_name, ', Number of layers: ',num_layers, ', trained on: ', trained_on)\n",
    "    model_begin = 0 #index of the first layer of the desired model\n",
    "    layer_names = []\n",
    "    for i in range(num_layers):\n",
    "        layer_names.append(selected_layers[model_begin+i].get('layer'))   \n",
    "        \n",
    "    return layer_names, path_data"
   ]
  },
  {
   "cell_type": "markdown",
   "metadata": {},
   "source": [
    "# RSA: DNN vs EEG"
   ]
  },
  {
   "cell_type": "code",
   "execution_count": null,
   "metadata": {},
   "outputs": [],
   "source": [
    "def RSA_EEG_DNN(model_name,trained_on,tested_on,layers_path):\n",
    "    \n",
    "    ''' Perform RSA on EEG RDMs at each timepoint and DNN RDMs at each layer. '''\n",
    "    \n",
    "    #load EEG data\n",
    "    rdm_eeg_dict = sio.loadmat('rsa_cross_task_subjects_5_35')\n",
    "    Input_rdm_eeg = rdm_eeg_dict.get('rdm_rsa') #not this one though! \n",
    "    \n",
    "    #0) Get layer names\n",
    "    layer_names, path_dnn = \\\n",
    "        define_layer_and_model_names(model_name,trained_on,tested_on,layers_path)\n",
    "    \n",
    "    #preallocate the Model RDM\n",
    "    model_rdm = np.zeros(len(layer_names),rdm_eeg.shape[1])\n",
    "    model_rdm[:] = np.nan\n",
    "    \n",
    "    #for each layer:\n",
    "    for layer_idx,layer in enumerate(layer_names):\n",
    "        #1) load the layer and get its upper triangular\n",
    "        RDM_dnn_path = os.path.join(ROOT_PATH + path_dnn + 'Input_RDM/', \\\n",
    "                              getFileName('Input_RDM_', NR_OF_SAMPLES, model_name, layer))\n",
    "        Input_RDM_dnn = np.load(RDM_dnn_path)   \n",
    "        \n",
    "        #2) select the 60 scenes from the input RDMs (10 220 by 10 220 one) - do it for each layer\n",
    "        idx_eeg_scenes = select_eeg_scenes()\n",
    "        Input_RDM_dnn_x = Input_RDM_dnn[idx_eeg_scenes,:]\n",
    "        Input_RDM_dnn_selected = Input_RDM_dnn_x[:,idx_eeg_scenes]\n",
    "        ut_rdm_dnn = get_upper_triangular(Input_RDM_dnn_selected)\n",
    "\n",
    "        #3) for each timepoint: do RSA\n",
    "        for timepoint in range(rdm_eeg.shape[0]): #not sure abt the dimension\n",
    "            ut_rdm_eeg = get_upper_triangular(Input_rdm_eeg[0]) #check dimension\n",
    "            \n",
    "            print('Calculating the correlation distance between ->', layer_i, 'and', layer_j)\n",
    "#             RSA = 1-spearmanr(ut_rdm_dnn,ut_rdm_eeg)[0]\n",
    "            model_rdm[layer_idx,timepoint] = 1-spearmanr(ut_rdm_dnn,ut_rdm_eeg)[0]\n",
    "#             RSA_matrix[np.where(np.array(layer_names_1)==layer_i)[0][0],\\\n",
    "#                    np.where(np.array(layer_names_2)==layer_j)[0][0]] = RSA_i_j\n",
    "\n",
    "    return model_rdm"
   ]
  },
  {
   "cell_type": "code",
   "execution_count": null,
   "metadata": {},
   "outputs": [],
   "source": [
    "def run_rsa_dnn_eeg(save_path,model_name,trained_on,tested_on):\n",
    "    path = os.path.join(save_path, getFileNameSave('Model_RDM_EEG',model_name,trained_on,tested_on))\n",
    "    RSA_EEG_DNN(model_name,trained_on,tested_on,'/mnt/raid/ni/agnessa/RSA/layer_names')\n",
    "    print('Finished computing RSA between EEG data and ', model_name, ' trained on ', \\ \n",
    "          trained_on, ' and tested on ', tested_on)"
   ]
  },
  {
   "cell_type": "code",
   "execution_count": null,
   "metadata": {},
   "outputs": [],
   "source": [
    "run_rsa_dnn_eeg('/mnt/raid/ni/agnessa/RSA/RSA_EEG/Model_RDMs','alexnet','imagenet','places')\n"
   ]
  }
 ],
 "metadata": {
  "colab": {
   "name": "ImageNet: model RDM.ipynb",
   "provenance": [],
   "version": "0.3.2"
  },
  "kernelspec": {
   "display_name": "Python 3",
   "language": "python",
   "name": "python3"
  },
  "language_info": {
   "codemirror_mode": {
    "name": "ipython",
    "version": 3
   },
   "file_extension": ".py",
   "mimetype": "text/x-python",
   "name": "python",
   "nbconvert_exporter": "python",
   "pygments_lexer": "ipython3",
   "version": "3.7.4"
  }
 },
 "nbformat": 4,
 "nbformat_minor": 1
}
