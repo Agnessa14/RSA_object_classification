{
 "cells": [
  {
   "cell_type": "markdown",
   "metadata": {},
   "source": [
    "# Set up the environment"
   ]
  },
  {
   "cell_type": "code",
   "execution_count": null,
   "metadata": {},
   "outputs": [],
   "source": [
    "import numpy as np\n",
    "import os\n",
    "import json\n",
    "import matplotlib.pyplot as plt\n",
    "import seaborn\n",
    "from sklearn.manifold import TSNE, MDS"
   ]
  },
  {
   "cell_type": "markdown",
   "metadata": {},
   "source": [
    "# Define a function to create a filename\n"
   ]
  },
  {
   "cell_type": "code",
   "execution_count": null,
   "metadata": {},
   "outputs": [],
   "source": [
    "def getFileName(name, n_samples, model_name, layer_name):\n",
    "    return name \\\n",
    "        + \"_{}_\".format(n_samples) \\\n",
    "        + \"_{}_\".format(model_name) \\\n",
    "        + \"_{}\".format(layer_name)  \\\n",
    "        + \".npy\"   "
   ]
  },
  {
   "cell_type": "markdown",
   "metadata": {},
   "source": [
    "# Plot stitched model"
   ]
  },
  {
   "cell_type": "code",
   "execution_count": null,
   "metadata": {},
   "outputs": [],
   "source": [
    "#use the same layers across all networks (1) or all layers (0)\n",
    "same_layers = 1\n",
    "\n",
    "#Load the model rdms\n",
    "path_34 = '/mnt/raid/ni/agnessa/RSA/Model_RDM/Model_RDM_10000__resnet34__all.npy'\n",
    "path_50 = '/mnt/raid/ni/agnessa/RSA/Model_RDM/Model_RDM_10000__resnet50__all.npy'\n",
    "path_34_50 = '/mnt/raid/ni/agnessa/RSA/Model_RDM/Model_RDM_10000__resnet34_resnet50__all.npy'\n",
    "path_34_resnext = '/mnt/raid/ni/agnessa/RSA/Model_RDM/Model_RDM_10000__resnext101_32x8d_resnet34__all.npy'\n",
    "path_50_resnext = '/mnt/raid/ni/agnessa/RSA/Model_RDM/Model_RDM_10000__resnext101_32x8d_resnet50__all.npy'\n",
    "path_resnext = '/mnt/raid/ni/agnessa/RSA/Model_RDM/Model_RDM_10000__resnext101_32x8d__all.npy'\n",
    "\n",
    "model_rdm_34 = np.load(path_34)\n",
    "model_rdm_50 = np.load(path_50)\n",
    "model_rdm_34_50 = np.load(path_34_50)\n",
    "model_rdm_34_resnext = np.load(path_34_resnext)\n",
    "model_rdm_50_resnext = np.load(path_50_resnext)\n",
    "model_rdm_resnext = np.load(path_resnext)\n",
    "\n",
    "#take the same layers of resnext as in the resnets\n",
    "if same_layers == 1:\n",
    "    a = np.arange(13)\n",
    "    b = np.arange(30,33)\n",
    "    c = np.concatenate((a,b),axis=0)\n",
    "    model_resized_rows = model_rdm_resnext[c,:]\n",
    "    model_rdm_resnext_resized = model_resized_rows[:,c]\n",
    "    stitched_rdm = np.ones([48,48])\n",
    "    stitched_rdm[:] = np.nan\n",
    "    stitched_rdm[0:16,0:16] = model_rdm_34\n",
    "    stitched_rdm[0:16,16:32] = model_rdm_34_50\n",
    "    stitched_rdm[16:32,0:16] = np.transpose(model_rdm_34_50)\n",
    "    stitched_rdm[16:32,16:32] = model_rdm_50\n",
    "    stitched_rdm[0:16,32:48] = np.transpose(model_rdm_34_resnext[c,0:16])\n",
    "    stitched_rdm[16:32,32:48] = np.transpose(model_rdm_50_resnext[c,0:16])\n",
    "    stitched_rdm[32:66,32:66] = model_rdm_resnext[c,c]\n",
    "stitched_rdm[32:66,0:16] = model_rdm_34_resnext[c,0:16]\n",
    "stitched_rdm[32:66,16:32] = model_rdm_50_resnext[c,0:16]\n",
    "\n",
    "    stitched_rdm = np.ones([65,65])\n",
    "stitched_rdm[:] = np.nan\n",
    "stitched_rdm[0:16,0:16] = model_rdm_34\n",
    "stitched_rdm[0:16,16:32] = model_rdm_34_50\n",
    "stitched_rdm[16:32,0:16] = np.transpose(model_rdm_34_50)\n",
    "stitched_rdm[16:32,16:32] = model_rdm_50\n",
    "stitched_rdm[0:16,32:66] = np.transpose(model_rdm_34_resnext[c,0:16])\n",
    "stitched_rdm[16:32,32:66] = np.transpose(model_rdm_50_resnext[c,0:16])\n",
    "stitched_rdm[32:66,32:66] = model_rdm_resnext[c,c]\n",
    "stitched_rdm[32:66,0:16] = model_rdm_34_resnext[c,0:16]\n",
    "stitched_rdm[32:66,16:32] = model_rdm_50_resnext[c,0:16]\n",
    "\n",
    "\n",
    "layer_names_resnets = ['layer1.0','layer1.1','layer1.2','layer2.0','layer2.1','layer2.2','layer2.3','layer3.0',\\\n",
    "                       'layer3.1','layer3.2','layer3.3','layer3.4','layer3.5','layer4.0','layer4.1','layer4.2']\n",
    "layer_names_resnext = ['layer1.0','layer1.1','layer1.2','layer2.0','layer2.1','layer2.2','layer2.3','layer3.0',\\\n",
    "                        'layer3.1','layer3.2','layer3.3','layer3.4','layer3.5','layer3.6','layer3.7','layer3.8','layer3.9',\\\n",
    "                        'layer3.10','layer3.11','layer3.12','layer3.13','layer3.14','layer3.15','layer3.16','layer3.17',\\\n",
    "                        'layer3.18','layer3.19','layer3.20','layer3.21','layer3.22','layer4.0','layer4.1','layer4.2']\n",
    "# layer_names = layer_names_resnets*2 + layer_names_resnext\n",
    "layer_names = layer_names_resnets*3\n",
    "\n"
   ]
  },
  {
   "cell_type": "code",
   "execution_count": null,
   "metadata": {},
   "outputs": [],
   "source": [
    "fig = plt.figure(figsize=(18,15))\n",
    "ax = seaborn.heatmap(stitched_rdm,  xticklabels = layer_names, yticklabels = layer_names, cmap='rainbow', vmin=0.0, vmax=1.0)\n",
    "plt.xticks(rotation=90) \n",
    "plt.yticks(rotation=0)\n",
    "plt.show()"
   ]
  },
  {
   "cell_type": "code",
   "execution_count": null,
   "metadata": {},
   "outputs": [],
   "source": [
    "ROOT_PATH = '/mnt/raid/ni/agnessa/RSA/'\n",
    "NR_OF_SAMPLES = 10000\n",
    "layer_name_model_rdm = 'all'\n",
    "model_name = 'resnet34_resnet50_resnext'\n",
    "path = os.path.join(ROOT_PATH + 'Model_RDM_plots', getFileName(\"Model_RDM\",NR_OF_SAMPLES,model_name,layer_name_model_rdm) + '.png')\n",
    "fig.savefig(path)"
   ]
  },
  {
   "cell_type": "code",
   "execution_count": null,
   "metadata": {},
   "outputs": [],
   "source": [
    "path_stitched = os.path.join(ROOT_PATH + 'Model_RDM', getFileName(\"Model_RDM_stitched\",NR_OF_SAMPLES,model_name,layer_name_model_rdm))\n",
    "np.save(path_stitched,stitched_rdm)"
   ]
  },
  {
   "cell_type": "markdown",
   "metadata": {},
   "source": [
    "# Multidimensional scaling"
   ]
  },
  {
   "cell_type": "code",
   "execution_count": null,
   "metadata": {},
   "outputs": [],
   "source": [
    "mds = MDS(n_components=2, n_init=200, max_iter=2000, eps=0.0001, dissimilarity='precomputed')\n",
    "data_embedded = mds.fit_transform(stitched_rdm)"
   ]
  },
  {
   "cell_type": "code",
   "execution_count": null,
   "metadata": {},
   "outputs": [],
   "source": [
    "#automate the layers\n",
    "# int_name = list(np.ones(np.array(layer_names).shape))\n",
    "# layer_name_int = list(np.ones(np.array(layer_names).shape))\n",
    "# for layer in layer_names:\n",
    "#     print(layer)\n",
    "#     i = layer_names.index(layer)\n",
    "#     print(i)\n",
    "#     for char in layer:\n",
    "#         c = layer.index(char)\n",
    "#         if int(c) == 5:\n",
    "#             int_name[0] = char\n",
    "#         elif int(c) == 7:\n",
    "#             int_name[1] = char\n",
    "#     print(int_name)\n",
    "#     layer_name_int[i] = float(\"{}.{}\".format(int_name[0],int_name[1]))\n",
    "\n",
    "# layers_resnet = np.repeat([1.0,1.1,1.2,2.0,2.1,2.2,2.3,3.0,3.1,3.2,3.3,3.4,3.5,4.0,4.1,4.2],3)\n",
    "# layers_resnext = (np.linspace(3.6,3.22,17))\n",
    "# #[3.6,3.7,3.8,3.9,3.10,3.11,3.12,3.13,3.14,3.15,3.16,3.17,3.18,3.19,3.20,3.21,3.22]\n",
    "# layers_all = np.concatenate(layers_resnet,layers_resnext)\n",
    "# sorted = list(layers_all).sort(key=float)\n",
    "# print(sorted)\n",
    "\n",
    "sorted_layers = [1.0,1.0,1.0,1.1,1.1,1.1,1.2,1.2,1.2,2.0,2.0,2.0,2.1,2.1,2.1,2.2,2.2,2.2, \\\n",
    "                 2.3,2.3,2.3,3.0,3.0,3.0,3.1,3.1,3.1,3.2,3.2,3.2,3.3,3.3,3.3,3.4,3.4,3.4, \\\n",
    "                 3.5,3.5,3.5,3.6,3.7,3.8,3.9,3.10,3.11,3.12,3.13,3.14,3.15,3.16,3.17,3.18,3.19, \\\n",
    "                 3.20,3.21,3.22,4.0,4.0,4.0,4.1,4.1,4.1,4.2,4.2,4.2]\n",
    "fig, ax = plt.subplots()\n",
    "ax.scatter(data_embedded[0:16, 0], data_embedded[0:16, 1], c=sorted_layers[0:16], cmap = 'rainbow', marker = '^')\n",
    "ax.scatter(data_embedded[16:32, 0], data_embedded[16:32, 1], c=sorted_layers[16:32], cmap = 'rainbow', marker = '*')\n",
    "ax.scatter(data_embedded[32:65, 0], data_embedded[32:65, 1], c=sorted_layers[32:65], cmap = 'rainbow', marker = 'o')\n",
    "\n",
    "# sc = ax.scatter(data_embedded[:, 0], data_embedded[:, 1], c=sorted_layers, cmap = 'rainbow', marker = '^')\n",
    "for i in range(np.array(layer_names).shape[0]):\n",
    "    ax.annotate(layer_names[i], (data_embedded[i, 0], data_embedded[i, 1]))\n",
    "\n",
    "\n",
    "plt.show()\n"
   ]
  },
  {
   "cell_type": "code",
   "execution_count": null,
   "metadata": {},
   "outputs": [],
   "source": [
    "path = os.path.join(ROOT_PATH + 'Model_RDM_MDS', getFileName(\"Model_RDM_MDS_full\",NR_OF_SAMPLES,model_name,layer_name_model_rdm) + '.png')\n",
    "fig.savefig(path)"
   ]
  }
 ],
 "metadata": {
  "kernelspec": {
   "display_name": "Python 3",
   "language": "python",
   "name": "python3"
  },
  "language_info": {
   "codemirror_mode": {
    "name": "ipython",
    "version": 3
   },
   "file_extension": ".py",
   "mimetype": "text/x-python",
   "name": "python",
   "nbconvert_exporter": "python",
   "pygments_lexer": "ipython3",
   "version": "3.7.4"
  }
 },
 "nbformat": 4,
 "nbformat_minor": 2
}
