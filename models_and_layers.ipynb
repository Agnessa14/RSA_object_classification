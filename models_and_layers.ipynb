{
 "cells": [
  {
   "cell_type": "markdown",
   "metadata": {},
   "source": [
    "# Write json file containing all layers of models"
   ]
  },
  {
   "cell_type": "code",
   "execution_count": 11,
   "metadata": {},
   "outputs": [],
   "source": [
    "from __future__ import print_function, division\n",
    "import os\n",
    "import codecs, json\n",
    "import io\n",
    "import collections\n",
    "from skimage import io\n",
    "from functools import partial\n",
    "import numpy as np\n",
    "\n",
    "import torch\n",
    "from torch.utils.data import Dataset, DataLoader\n",
    "import torch.nn as nn\n",
    "import torch.nn.functional as F\n",
    "from torch.utils.data import Dataset, DataLoader\n",
    "from torchvision import transforms, utils\n",
    "import torchvision\n",
    "import torchvision.transforms as transforms\n",
    "import torchvision.models as tmodels\n",
    "from torchvision import datasets\n",
    "from torchvision.datasets import ImageFolder\n",
    "from torchvision.datasets.folder import default_loader \n",
    "from torchvision.models import *"
   ]
  },
  {
   "cell_type": "code",
   "execution_count": 2,
   "metadata": {},
   "outputs": [],
   "source": [
    "model_names = np.array(['resnet34','resnet50','resnext101_32x8d','googlenet', 'alexnet','vgg16_bn', 'vgg19_bn'])\n",
    "\n",
    "models = np.array([resnet34(pretrained=True),resnet50(pretrained=True),resnext101_32x8d(pretrained=True),\n",
    "                   googlenet(pretrained=True), alexnet(pretrained=True),vgg16_bn(pretrained=True), vgg19_bn(pretrained=True)])\n"
   ]
  },
  {
   "cell_type": "code",
   "execution_count": 14,
   "metadata": {},
   "outputs": [],
   "source": [
    "# create a list of all models and their layers, save it in a dictionary, and save the dictionary to a json file.\n",
    "all_models = []\n",
    "for model, model_name in zip(models, model_names):\n",
    "        for layer_name, m in model.named_modules():   \n",
    "            model_dict = {'model': model_name,'layer': layer_name}\n",
    "            all_models.append(model_dict)\n",
    "file_path = '/mnt/antares_raid/home/agnessa/RSA/path.json'\n",
    "json.dump(all_models, codecs.open(file_path, 'w', encoding='utf-8'), separators=(',', ':'), sort_keys=False, indent=4) ### this saves the array in .json format"
   ]
  },
  {
   "cell_type": "code",
   "execution_count": null,
   "metadata": {},
   "outputs": [],
   "source": [
    "#create a list of selected layers\n",
    "#select the layers: only 1.0, 1.2, 1.3...4.2 -> the ones at the beginning of a building block\n",
    "for char in layer_name:              \n",
    "    dots = 0\n",
    "    if char == '.':\n",
    "        dots = dots+1\n",
    "if dots == 1:     \n",
    "    modelDict.update({'model': model_name,'layer': layer_name})\n",
    "    print(modelDict)"
   ]
  },
  {
   "cell_type": "code",
   "execution_count": 6,
   "metadata": {},
   "outputs": [],
   "source": [
    "a_dict = {'name':'steve','age':20}\n",
    "a_dict = {}"
   ]
  },
  {
   "cell_type": "code",
   "execution_count": null,
   "metadata": {},
   "outputs": [],
   "source": []
  }
 ],
 "metadata": {
  "kernelspec": {
   "display_name": "Python 3",
   "language": "python",
   "name": "python3"
  },
  "language_info": {
   "codemirror_mode": {
    "name": "ipython",
    "version": 3
   },
   "file_extension": ".py",
   "mimetype": "text/x-python",
   "name": "python",
   "nbconvert_exporter": "python",
   "pygments_lexer": "ipython3",
   "version": "3.7.4"
  }
 },
 "nbformat": 4,
 "nbformat_minor": 2
}
