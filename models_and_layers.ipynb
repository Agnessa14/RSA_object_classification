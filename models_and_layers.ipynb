{
 "cells": [
  {
   "cell_type": "markdown",
   "metadata": {},
   "source": [
    "# Set up the environment"
   ]
  },
  {
   "cell_type": "code",
   "execution_count": 1,
   "metadata": {},
   "outputs": [],
   "source": [
    "import codecs, json\n",
    "import numpy as np\n",
    "from torchvision.models import *"
   ]
  },
  {
   "cell_type": "markdown",
   "metadata": {},
   "source": [
    "# Pick the models of interest"
   ]
  },
  {
   "cell_type": "code",
   "execution_count": 2,
   "metadata": {},
   "outputs": [],
   "source": [
    "model_names = np.array(['resnet34','resnet50','resnext101_32x8d','googlenet', 'alexnet','vgg16_bn', 'vgg19_bn'])\n",
    "\n",
    "models = np.array([resnet34(pretrained=True),resnet50(pretrained=True),resnext101_32x8d(pretrained=True),\n",
    "                   googlenet(pretrained=True), alexnet(pretrained=True),vgg16_bn(pretrained=True), vgg19_bn(pretrained=True)])\n"
   ]
  },
  {
   "cell_type": "markdown",
   "metadata": {},
   "source": [
    "# Create a json file of all layer names for all  models "
   ]
  },
  {
   "cell_type": "code",
   "execution_count": null,
   "metadata": {},
   "outputs": [],
   "source": [
    "all_models = []\n",
    "for model, model_name in zip(models, model_names):\n",
    "    for layer_name, m in model.named_modules():   \n",
    "        model_dict = {'model': model_name,'layer': layer_name}\n",
    "        all_models.append(model_dict)\n",
    "file_path = '/mnt/antares_raid/home/agnessa/RSA/all_models_all_layers.json'\n",
    "json.dump(all_models, codecs.open(file_path, 'w', encoding='utf-8'), separators=(',', ':'), sort_keys=False, indent=4) ### this saves the array in .json format"
   ]
  },
  {
   "cell_type": "markdown",
   "metadata": {},
   "source": [
    "# Create a json file of layers of interest"
   ]
  },
  {
   "cell_type": "code",
   "execution_count": 3,
   "metadata": {},
   "outputs": [
    {
     "name": "stdout",
     "output_type": "stream",
     "text": [
      "resnet34\n",
      "layer1.0\n",
      "layer1.1\n",
      "layer1.2\n",
      "layer2.0\n",
      "layer2.1\n",
      "layer2.2\n",
      "layer2.3\n",
      "layer3.0\n",
      "layer3.1\n",
      "layer3.2\n",
      "layer3.3\n",
      "layer3.4\n",
      "layer3.5\n",
      "layer4.0\n",
      "layer4.1\n",
      "layer4.2\n",
      "resnet50\n",
      "layer1.0\n",
      "layer1.1\n",
      "layer1.2\n",
      "layer2.0\n",
      "layer2.1\n",
      "layer2.2\n",
      "layer2.3\n",
      "layer3.0\n",
      "layer3.1\n",
      "layer3.2\n",
      "layer3.3\n",
      "layer3.4\n",
      "layer3.5\n",
      "layer4.0\n",
      "layer4.1\n",
      "layer4.2\n",
      "resnext101_32x8d\n",
      "layer1.0\n",
      "layer1.1\n",
      "layer1.2\n",
      "layer2.0\n",
      "layer2.1\n",
      "layer2.2\n",
      "layer2.3\n",
      "layer3.0\n",
      "layer3.1\n",
      "layer3.2\n",
      "layer3.3\n",
      "layer3.4\n",
      "layer3.5\n",
      "layer3.6\n",
      "layer3.7\n",
      "layer3.8\n",
      "layer3.9\n",
      "layer3.10\n",
      "layer3.11\n",
      "layer3.12\n",
      "layer3.13\n",
      "layer3.14\n",
      "layer3.15\n",
      "layer3.16\n",
      "layer3.17\n",
      "layer3.18\n",
      "layer3.19\n",
      "layer3.20\n",
      "layer3.21\n",
      "layer3.22\n",
      "layer4.0\n",
      "layer4.1\n",
      "layer4.2\n",
      "[{'model': 'resnet34', 'layer': 'layer1.0'}, {'model': 'resnet34', 'layer': 'layer1.1'}, {'model': 'resnet34', 'layer': 'layer1.2'}, {'model': 'resnet34', 'layer': 'layer2.0'}, {'model': 'resnet34', 'layer': 'layer2.1'}, {'model': 'resnet34', 'layer': 'layer2.2'}, {'model': 'resnet34', 'layer': 'layer2.3'}, {'model': 'resnet34', 'layer': 'layer3.0'}, {'model': 'resnet34', 'layer': 'layer3.1'}, {'model': 'resnet34', 'layer': 'layer3.2'}, {'model': 'resnet34', 'layer': 'layer3.3'}, {'model': 'resnet34', 'layer': 'layer3.4'}, {'model': 'resnet34', 'layer': 'layer3.5'}, {'model': 'resnet34', 'layer': 'layer4.0'}, {'model': 'resnet34', 'layer': 'layer4.1'}, {'model': 'resnet34', 'layer': 'layer4.2'}, {'model': 'resnet50', 'layer': 'layer1.0'}, {'model': 'resnet50', 'layer': 'layer1.1'}, {'model': 'resnet50', 'layer': 'layer1.2'}, {'model': 'resnet50', 'layer': 'layer2.0'}, {'model': 'resnet50', 'layer': 'layer2.1'}, {'model': 'resnet50', 'layer': 'layer2.2'}, {'model': 'resnet50', 'layer': 'layer2.3'}, {'model': 'resnet50', 'layer': 'layer3.0'}, {'model': 'resnet50', 'layer': 'layer3.1'}, {'model': 'resnet50', 'layer': 'layer3.2'}, {'model': 'resnet50', 'layer': 'layer3.3'}, {'model': 'resnet50', 'layer': 'layer3.4'}, {'model': 'resnet50', 'layer': 'layer3.5'}, {'model': 'resnet50', 'layer': 'layer4.0'}, {'model': 'resnet50', 'layer': 'layer4.1'}, {'model': 'resnet50', 'layer': 'layer4.2'}, {'model': 'resnext101_32x8d', 'layer': 'layer1.0'}, {'model': 'resnext101_32x8d', 'layer': 'layer1.1'}, {'model': 'resnext101_32x8d', 'layer': 'layer1.2'}, {'model': 'resnext101_32x8d', 'layer': 'layer2.0'}, {'model': 'resnext101_32x8d', 'layer': 'layer2.1'}, {'model': 'resnext101_32x8d', 'layer': 'layer2.2'}, {'model': 'resnext101_32x8d', 'layer': 'layer2.3'}, {'model': 'resnext101_32x8d', 'layer': 'layer3.0'}, {'model': 'resnext101_32x8d', 'layer': 'layer3.1'}, {'model': 'resnext101_32x8d', 'layer': 'layer3.2'}, {'model': 'resnext101_32x8d', 'layer': 'layer3.3'}, {'model': 'resnext101_32x8d', 'layer': 'layer3.4'}, {'model': 'resnext101_32x8d', 'layer': 'layer3.5'}, {'model': 'resnext101_32x8d', 'layer': 'layer3.6'}, {'model': 'resnext101_32x8d', 'layer': 'layer3.7'}, {'model': 'resnext101_32x8d', 'layer': 'layer3.8'}, {'model': 'resnext101_32x8d', 'layer': 'layer3.9'}, {'model': 'resnext101_32x8d', 'layer': 'layer3.10'}, {'model': 'resnext101_32x8d', 'layer': 'layer3.11'}, {'model': 'resnext101_32x8d', 'layer': 'layer3.12'}, {'model': 'resnext101_32x8d', 'layer': 'layer3.13'}, {'model': 'resnext101_32x8d', 'layer': 'layer3.14'}, {'model': 'resnext101_32x8d', 'layer': 'layer3.15'}, {'model': 'resnext101_32x8d', 'layer': 'layer3.16'}, {'model': 'resnext101_32x8d', 'layer': 'layer3.17'}, {'model': 'resnext101_32x8d', 'layer': 'layer3.18'}, {'model': 'resnext101_32x8d', 'layer': 'layer3.19'}, {'model': 'resnext101_32x8d', 'layer': 'layer3.20'}, {'model': 'resnext101_32x8d', 'layer': 'layer3.21'}, {'model': 'resnext101_32x8d', 'layer': 'layer3.22'}, {'model': 'resnext101_32x8d', 'layer': 'layer4.0'}, {'model': 'resnext101_32x8d', 'layer': 'layer4.1'}, {'model': 'resnext101_32x8d', 'layer': 'layer4.2'}]\n"
     ]
    }
   ],
   "source": [
    "#for all ResNets: select the layers: only 1.0, 1.2, 1.3...4.2 -> the ones at the beginning of a building block\n",
    "selected_layers = []\n",
    "for model,model_name in zip(models, model_names):\n",
    "    if 'res' in model_name:\n",
    "        print(model_name)\n",
    "        for layer_name,m in model.named_modules():\n",
    "            dots = 0\n",
    "            for char in layer_name:              \n",
    "                if char == '.':\n",
    "                    dots = dots+1\n",
    "            if dots == 1:     \n",
    "                print(layer_name)\n",
    "                model_dict_selected = {'model': model_name,'layer': layer_name}\n",
    "                selected_layers.append(model_dict_selected)\n",
    "print(selected_layers)\n",
    "file_path = '/mnt/antares_raid/home/agnessa/RSA/resnets_selected_layers.json'\n",
    "json.dump(selected_layers, codecs.open(file_path, 'w', encoding='utf-8'), separators=(',', ':'), sort_keys=False, indent=4) ### this saves the array in .json format"
   ]
  },
  {
   "cell_type": "code",
   "execution_count": null,
   "metadata": {},
   "outputs": [],
   "source": []
  }
 ],
 "metadata": {
  "kernelspec": {
   "display_name": "Python 3",
   "language": "python",
   "name": "python3"
  },
  "language_info": {
   "codemirror_mode": {
    "name": "ipython",
    "version": 3
   },
   "file_extension": ".py",
   "mimetype": "text/x-python",
   "name": "python",
   "nbconvert_exporter": "python",
   "pygments_lexer": "ipython3",
   "version": "3.7.4"
  }
 },
 "nbformat": 4,
 "nbformat_minor": 2
}
